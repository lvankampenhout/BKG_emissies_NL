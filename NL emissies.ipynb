{
 "cells": [
  {
   "cell_type": "markdown",
   "metadata": {},
   "source": [
    "# Emissie-reducties \n",
    "\n",
    "## benodigd in NL om te voldoen aan de verplichtingen volgend uit het klimaatakkoord van Parijs\n",
    "\n",
    "Uitgangspunt voor dit notebook zijn de totale hoeveelheid emissies, dus niet alleen CO2 maar ook CH4, F-gassen etc. aangezien deze ook bijdragen aan het broeikaseffect. De belangrijkste bron hierbij zijn de tabellen van de Emissieregistratie : http://www.emissieregistratie.nl/erpubliek/erpub/international/broeikasgassen.aspx\n",
    "\n"
   ]
  },
  {
   "cell_type": "code",
   "execution_count": 26,
   "metadata": {},
   "outputs": [],
   "source": [
    "import pandas as pd\n",
    "import numpy as np\n",
    "import matplotlib.pyplot as plt\n",
    "%matplotlib inline"
   ]
  },
  {
   "cell_type": "code",
   "execution_count": 41,
   "metadata": {},
   "outputs": [],
   "source": [
    "\"\"\"\n",
    "Bron voor NL emissies: \n",
    "    http://www.emissieregistratie.nl/erpubliek/erpub/international/broeikasgassen.aspx\n",
    "\"\"\"\n",
    "\n",
    "# Mton CO2-eq, excl. LULUCF\n",
    "emis_NL = [float(x) for x in \"221.7 231.6 219.8 214.7 213.7 195.9 195.4 193.3 188.2\".split()]\n",
    "emis_NL_jaren = [int(x) for x in \"1990 1995 2000 2005 2010 2015 2016 2017 2018\".split()]\n",
    "\n",
    "emis_NL_dict = dict(zip(emis_NL_jaren, emis_NL))\n",
    "emis_NL_1990 = emis_NL_dict[1990] \n",
    "emis_NL_2018 = emis_NL_dict[2018]"
   ]
  },
  {
   "cell_type": "code",
   "execution_count": 42,
   "metadata": {},
   "outputs": [
    {
     "data": {
      "text/plain": [
       "[<matplotlib.lines.Line2D at 0x118cf0eb8>]"
      ]
     },
     "execution_count": 42,
     "metadata": {},
     "output_type": "execute_result"
    },
    {
     "data": {
      "image/png": "[encoded data removed]",
      "text/plain": [
       "<Figure size 432x288 with 1 Axes>"
      ]
     },
     "metadata": {
      "needs_background": "light"
     },
     "output_type": "display_data"
    }
   ],
   "source": [
    "plt.plot(emis_NL_jaren, emis_NL, 'o-')"
   ]
  },
  {
   "cell_type": "code",
   "execution_count": 45,
   "metadata": {},
   "outputs": [
    {
     "name": "stdout",
     "output_type": "stream",
     "text": [
      "reductie in 2018 t.o.v. 1990\n",
      "15.11 %\n"
     ]
    }
   ],
   "source": [
    "print('reductie in 2018 t.o.v. 1990')\n",
    "print('{:.2f} %'.format((1.0 - emis_NL_2018 / emis_NL_1990)*100))"
   ]
  },
  {
   "cell_type": "markdown",
   "metadata": {},
   "source": [
    "Ter referentie, het 4e kabinet Balkenende uit 2007 had als doelstelling in het regeerakkoord had opgenomen om de totale emissies in 2020 gereduceerd te hebben met 30% t.o.v. 1990\n",
    "\n",
    "Bron: NRC (https://outline.com/8MyPLN)\n",
    "\n",
    "Deze doelstelling is door latere kabinetten losgelaten. Het Urgenda-vonnis eist alsnog 25% reductie door de staat. \n",
    "\n",
    "Bron: https://www.rijksoverheid.nl/actueel/nieuws/2020/04/24/kabinet-neemt-maatregelen-voor-extra-co2-reductie"
   ]
  },
  {
   "cell_type": "code",
   "execution_count": 5,
   "metadata": {},
   "outputs": [
    {
     "name": "stdout",
     "output_type": "stream",
     "text": [
      "percentage wereldbevolking: 0.22 %\n"
     ]
    }
   ],
   "source": [
    "\"\"\"\n",
    "Bronnen\n",
    "    https://en.wikipedia.org/wiki/Netherlands\n",
    "    https://en.wikipedia.org/wiki/World_population\n",
    "\"\"\"\n",
    "inwoners_NL = 17.4e6 # 1-1-2019\n",
    "inwoners_wereld = 7.8e9 # maart 2020\n",
    "\n",
    "inwoners_NL_frac_wereld = inwoners_NL / inwoners_wereld \n",
    "\n",
    "print('percentage wereldbevolking: {:.2f} %'.format(inwoners_NL_frac_wereld*100))"
   ]
  },
  {
   "cell_type": "code",
   "execution_count": 46,
   "metadata": {},
   "outputs": [
    {
     "data": {
      "text/plain": [
       "(720000.0, 'Mton')"
      ]
     },
     "execution_count": 46,
     "metadata": {},
     "output_type": "execute_result"
    }
   ],
   "source": [
    "\"\"\"\n",
    "Koolstofbudget om 67% kans te hebben om op 1,75 graden uit te komen\n",
    "d.w.z. om te voldoen Klimaatakkoord Parijs \"ruim onder 2 graden\"\n",
    "\n",
    "Bron\n",
    "    https://scilogs.spektrum.de/klimalounge/wie-viel-co2-kann-deutschland-noch-ausstossen/\n",
    "\"\"\"\n",
    "world_budget_2018 = 800 * 1e9/1e6 # Gt to Mton, beginning of 2018\n",
    "correction_2020 = 80  *  1e9/1e6 # budget begin 2020, twee jaren verder, mondiale uitstoot ca. 40 Gt per jaar\n",
    "\n",
    "world_budget_2020 = world_budget_2018 - correction_2020\n",
    "world_budget_2020, 'Mton'"
   ]
  },
  {
   "cell_type": "code",
   "execution_count": 7,
   "metadata": {},
   "outputs": [
    {
     "data": {
      "text/plain": [
       "(1606.153846153846, 'Mton')"
      ]
     },
     "execution_count": 7,
     "metadata": {},
     "output_type": "execute_result"
    }
   ],
   "source": [
    "budget_NL = inwoners_NL_frac_wereld * world_budget_2020\n",
    "budget_NL, 'Mton'"
   ]
  },
  {
   "cell_type": "code",
   "execution_count": 47,
   "metadata": {},
   "outputs": [
    {
     "data": {
      "text/plain": [
       "8.534292487533719"
      ]
     },
     "execution_count": 47,
     "metadata": {},
     "output_type": "execute_result"
    }
   ],
   "source": [
    "# Met huidige emissies, na hoeveel jaren is het budget op? \n",
    "budget_NL / emis_NL_2018"
   ]
  },
  {
   "cell_type": "markdown",
   "metadata": {},
   "source": [
    "Dat is heel snel. "
   ]
  },
  {
   "cell_type": "markdown",
   "metadata": {},
   "source": [
    "## Voorgenomen beleid (klimaatwet)\n",
    "In de klimaatwet is vastgelegd dat emissies in 2030 met 49% worden gereduceerd, en in 2050 met 95%\n",
    "\n",
    "Bron: https://www.energienieuws.info/2019/05/klimaatwet-aangenomen.html\n",
    "\n",
    "Met een lineaire daling ziet dat er zo uit: "
   ]
  },
  {
   "cell_type": "code",
   "execution_count": 9,
   "metadata": {},
   "outputs": [],
   "source": [
    "# AANNAME 1: het 2020 doel van Urgenda wordt gehaald\n",
    "emis_NL_2020 = 0.75 * emis_NL_1990\n",
    "emis_NL_2030 = 0.51 * emis_NL_1990\n",
    "emis_NL_2050 = 0.05 * emis_NL_1990"
   ]
  },
  {
   "cell_type": "code",
   "execution_count": 10,
   "metadata": {},
   "outputs": [
    {
     "data": {
      "text/plain": [
       "(166.27499999999998, 113.067, 11.085)"
      ]
     },
     "execution_count": 10,
     "metadata": {},
     "output_type": "execute_result"
    }
   ],
   "source": [
    "emis_NL_2020, emis_NL_2030, emis_NL_2050"
   ]
  },
  {
   "cell_type": "code",
   "execution_count": 13,
   "metadata": {},
   "outputs": [],
   "source": [
    "def emissies_2020s(jaar):\n",
    "    daling_per_jaar = (emis_NL_2020 - emis_NL_2030) / 10\n",
    "    return emis_NL_2020 - daling_per_jaar * (jaar-2020)\n",
    "\n",
    "assert(np.isclose(emissies_2020s(2020), emis_NL_2020))\n",
    "assert(np.isclose(emissies_2020s(2030), emis_NL_2030))"
   ]
  },
  {
   "cell_type": "code",
   "execution_count": 14,
   "metadata": {},
   "outputs": [],
   "source": [
    "def emissies_2030s_2040s(jaar):\n",
    "    daling_per_jaar = (emis_NL_2030 - emis_NL_2050) / 20\n",
    "    return emis_NL_2030 - daling_per_jaar * (jaar-2030)\n",
    "\n",
    "assert(np.isclose(emissies_2030s_2040s(2030), emis_NL_2030))\n",
    "assert(np.isclose(emissies_2030s_2040s(2050), emis_NL_2050))"
   ]
  },
  {
   "cell_type": "code",
   "execution_count": 15,
   "metadata": {},
   "outputs": [],
   "source": [
    "years1 = np.arange(2020, 2031)\n",
    "emissies1 = list(map(emissies_2020s, years1))\n",
    "\n",
    "years2 = np.arange(2031, 2051)\n",
    "emissies2 = list(map(emissies_2030s_2040s, years2))"
   ]
  },
  {
   "cell_type": "code",
   "execution_count": 44,
   "metadata": {},
   "outputs": [
    {
     "data": {
      "text/plain": [
       "<matplotlib.legend.Legend at 0x118e6c898>"
      ]
     },
     "execution_count": 44,
     "metadata": {},
     "output_type": "execute_result"
    },
    {
     "data": {
      "image/png": "[encoded data removed]",
      "text/plain": [
       "<Figure size 432x288 with 1 Axes>"
      ]
     },
     "metadata": {
      "needs_background": "light"
     },
     "output_type": "display_data"
    }
   ],
   "source": [
    "plt.plot(emis_NL_jaren, emis_NL, 'o-', label='historisch')\n",
    "plt.plot(years1, emissies1, 'o')\n",
    "plt.plot(years2, emissies2, 'o')\n",
    "plt.xlabel('Jaar')\n",
    "plt.ylabel('Totaal emissies (Mton CO2-eq)')\n",
    "plt.legend()"
   ]
  },
  {
   "cell_type": "markdown",
   "metadata": {},
   "source": [
    "We tellen nu de emissies in alle jaren (2020-2050) bij elkaar op om tot een totaal te komen"
   ]
  },
  {
   "cell_type": "code",
   "execution_count": 17,
   "metadata": {},
   "outputs": [
    {
     "data": {
      "text/plain": [
       "2726.91"
      ]
     },
     "execution_count": 17,
     "metadata": {},
     "output_type": "execute_result"
    }
   ],
   "source": [
    "np.sum(emissies1)  + np.sum(emissies2)"
   ]
  },
  {
   "cell_type": "markdown",
   "metadata": {},
   "source": [
    "In vergelijk, het NL budget als berekend als evenredig deel van het wereldbudget (0,22 %), dit is: "
   ]
  },
  {
   "cell_type": "code",
   "execution_count": 18,
   "metadata": {},
   "outputs": [
    {
     "data": {
      "text/plain": [
       "1606.153846153846"
      ]
     },
     "execution_count": 18,
     "metadata": {},
     "output_type": "execute_result"
    }
   ],
   "source": [
    "budget_NL"
   ]
  },
  {
   "cell_type": "markdown",
   "metadata": {},
   "source": [
    "Figuur van Twitter , https://twitter.com/Umweltrat/status/1260910188246245377\n",
    "\n",
    "Bijschrift: \n",
    "> Ein Paris-kompatibles #CO2Budget sollte Maßstab für deutsche und europäische #Klimapolitik sein. Grundlage für deutsches Budget sind Klimaphysik und Bevölkerungsanteil (@IPCC_CH #SR15: 1.5°C anstreben, maximal 1,75°C Paris-kompatibel, 67% Wahrscheinlichkeit).\n",
    " \n",
    "Ook hieruit blijkt, een lineare emissie-afname tot 2050 is niet voldoende voor Parijs! "
   ]
  },
  {
   "cell_type": "markdown",
   "metadata": {},
   "source": [
    "![title](EX-nHuHWsAAfj9h.jpg)"
   ]
  },
  {
   "cell_type": "markdown",
   "metadata": {},
   "source": [
    "Laten we ook de groene rechte lijn berekenen, dat is het pad dat genomen moet worden om binnen het koolstofbudget te blijven voor Parijs, met een lineaire afname per jaar (dat rekent makkelijker dan de andere lijn). "
   ]
  },
  {
   "cell_type": "code",
   "execution_count": 124,
   "metadata": {},
   "outputs": [
    {
     "data": {
      "text/plain": [
       "19"
      ]
     },
     "execution_count": 124,
     "metadata": {},
     "output_type": "execute_result"
    }
   ],
   "source": [
    "# Gegeven het budget, dit is de tijd die we hebben om de emissies naar nul te brengen\n",
    "# voor het gemak van rekenen naar beneden afronden\n",
    "# dit getal is INCLUSIEF het startjaar 2020\n",
    "jaren_tot_nul = np.int((budget_NL * 2 ) / emis_NL_2020)\n",
    "jaren_tot_nul"
   ]
  },
  {
   "cell_type": "markdown",
   "metadata": {},
   "source": [
    "Functie voor de emissies per jaar, vanaf 2020"
   ]
  },
  {
   "cell_type": "code",
   "execution_count": 126,
   "metadata": {},
   "outputs": [],
   "source": [
    "def emissies_parijs(jaar):  \n",
    "    # endpoint is zero emissions\n",
    "    daling_per_jaar = (emis_NL_2020 - 0.0) / (jaren_tot_nul - 1) # EXCLUSIEF startjaar\n",
    "    return emis_NL_2020 - daling_per_jaar * (jaar-2020)\n",
    "\n",
    "assert(np.isclose(emissies_parijs(2020), emis_NL_2020))\n",
    "assert(np.isclose(emissies_parijs(2020 + jaren_tot_nul - 1), 0.0))"
   ]
  },
  {
   "cell_type": "code",
   "execution_count": 129,
   "metadata": {},
   "outputs": [],
   "source": [
    "years3 = np.arange(2020, 2020+jaren_tot_nul)\n",
    "emissies3 = list(map(emissies_parijs, years3))"
   ]
  },
  {
   "cell_type": "code",
   "execution_count": 130,
   "metadata": {},
   "outputs": [
    {
     "data": {
      "text/plain": [
       "(array([2020, 2021, 2022, 2023, 2024, 2025, 2026, 2027, 2028, 2029, 2030,\n",
       "        2031, 2032, 2033, 2034, 2035, 2036, 2037, 2038]),\n",
       " [166.27499999999998,\n",
       "  157.03749999999997,\n",
       "  147.79999999999998,\n",
       "  138.56249999999997,\n",
       "  129.325,\n",
       "  120.08749999999998,\n",
       "  110.84999999999998,\n",
       "  101.61249999999998,\n",
       "  92.37499999999999,\n",
       "  83.13749999999999,\n",
       "  73.89999999999999,\n",
       "  64.6625,\n",
       "  55.42499999999998,\n",
       "  46.187499999999986,\n",
       "  36.94999999999999,\n",
       "  27.712500000000006,\n",
       "  18.474999999999994,\n",
       "  9.237499999999983,\n",
       "  0.0])"
      ]
     },
     "execution_count": 130,
     "metadata": {},
     "output_type": "execute_result"
    }
   ],
   "source": [
    "years3, emissies3"
   ]
  },
  {
   "cell_type": "code",
   "execution_count": 131,
   "metadata": {},
   "outputs": [
    {
     "data": {
      "text/plain": [
       "<matplotlib.legend.Legend at 0x11a0b85f8>"
      ]
     },
     "execution_count": 131,
     "metadata": {},
     "output_type": "execute_result"
    },
    {
     "data": {
      "image/png": "[encoded data removed]",
      "text/plain": [
       "<Figure size 432x288 with 1 Axes>"
      ]
     },
     "metadata": {
      "needs_background": "light"
     },
     "output_type": "display_data"
    }
   ],
   "source": [
    "plt.plot(emis_NL_jaren, emis_NL, 'o-', label='historisch')\n",
    "plt.plot(years3, emissies3, 'o')\n",
    "#plt.plot(years2, emissies2, 'o')\n",
    "plt.xlabel('Jaar')\n",
    "plt.ylabel('Totaal emissies (Mton CO2-eq)')\n",
    "plt.legend()"
   ]
  },
  {
   "cell_type": "markdown",
   "metadata": {},
   "source": [
    "Alle jaren optellen, zou overeen moeten komen met het budget (of minder, wegens afronding aantal resterende jaren)"
   ]
  },
  {
   "cell_type": "code",
   "execution_count": 135,
   "metadata": {},
   "outputs": [
    {
     "data": {
      "text/plain": [
       "(1579.6124999999995, 1606.153846153846)"
      ]
     },
     "execution_count": 135,
     "metadata": {},
     "output_type": "execute_result"
    }
   ],
   "source": [
    "np.sum(emissies3), budget_NL"
   ]
  },
  {
   "cell_type": "markdown",
   "metadata": {},
   "source": [
    "OK. "
   ]
  },
  {
   "cell_type": "code",
   "execution_count": 136,
   "metadata": {},
   "outputs": [
    {
     "name": "stdout",
     "output_type": "stream",
     "text": [
      "Nederland moet emissie-vrij zijn in jaar 2038\n"
     ]
    }
   ],
   "source": [
    "print('Nederland moet emissie-vrij zijn in jaar {}'.format(years3[-1]))"
   ]
  },
  {
   "cell_type": "code",
   "execution_count": null,
   "metadata": {},
   "outputs": [],
   "source": []
  }
 ],
 "metadata": {
  "kernelspec": {
   "display_name": "Python 3",
   "language": "python",
   "name": "python3"
  },
  "language_info": {
   "codemirror_mode": {
    "name": "ipython",
    "version": 3
   },
   "file_extension": ".py",
   "mimetype": "text/x-python",
   "name": "python",
   "nbconvert_exporter": "python",
   "pygments_lexer": "ipython3",
   "version": "3.6.9"
  }
 },
 "nbformat": 4,
 "nbformat_minor": 2
}

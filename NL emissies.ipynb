{
 "cells": [
  {
   "cell_type": "markdown",
   "metadata": {},
   "source": [
    "# Emissie-reducties \n",
    "\n",
    "## benodigd in NL om te voldoen aan de verplichtingen volgend uit het klimaatakkoord van Parijs\n",
    "\n",
    "Uitgangspunt voor dit notebook zijn de totale hoeveelheid emissies, dus niet alleen CO2 maar ook CH4, F-gassen etc. aangezien deze ook bijdragen aan het broeikaseffect. De belangrijkste bron hierbij zijn de tabellen van de Emissieregistratie : http://www.emissieregistratie.nl/erpubliek/erpub/international/broeikasgassen.aspx\n",
    "\n"
   ]
  },
  {
   "cell_type": "code",
   "execution_count": 2,
   "metadata": {},
   "outputs": [],
   "source": [
    "import pandas as pd\n",
    "import numpy as np\n",
    "import matplotlib.pyplot as plt\n",
    "%matplotlib inline"
   ]
  },
  {
   "cell_type": "code",
   "execution_count": 3,
   "metadata": {},
   "outputs": [],
   "source": [
    "\"\"\"\n",
    "Bron voor NL emissies: \n",
    "    http://www.emissieregistratie.nl/erpubliek/erpub/international/broeikasgassen.aspx\n",
    "\"\"\"\n",
    "\n",
    "emis_NL_1990 = 221.7 # Mton CO2-eq, excl. LULUCF\n",
    "emis_NL_2017 = 193.7 # Mton CO2-eq"
   ]
  },
  {
   "cell_type": "code",
   "execution_count": 4,
   "metadata": {},
   "outputs": [
    {
     "name": "stdout",
     "output_type": "stream",
     "text": [
      "reductie in 2017 t.o.v. 1990\n",
      "12.63 %\n"
     ]
    }
   ],
   "source": [
    "print('reductie in 2017 t.o.v. 1990')\n",
    "print('{:.2f} %'.format((1.0 - emis_NL_2017 / emis_NL_1990)*100))"
   ]
  },
  {
   "cell_type": "markdown",
   "metadata": {},
   "source": [
    "Ter referentie, het 4e kabinet Balkenende uit 2007 had als doelstelling in het regeerakkoord had opgenomen om de totale emissies in 2020 gereduceerd te hebben met 30% t.o.v. 1990\n",
    "\n",
    "Bron: NRC (https://outline.com/8MyPLN)\n",
    "\n",
    "Deze doelstelling is door latere kabinetten losgelaten. Het Urgenda-vonnis eist alsnog 25% reductie door de staat. \n",
    "\n",
    "Bron: https://www.rijksoverheid.nl/actueel/nieuws/2020/04/24/kabinet-neemt-maatregelen-voor-extra-co2-reductie"
   ]
  },
  {
   "cell_type": "code",
   "execution_count": 5,
   "metadata": {},
   "outputs": [
    {
     "name": "stdout",
     "output_type": "stream",
     "text": [
      "percentage wereldbevolking: 0.22 %\n"
     ]
    }
   ],
   "source": [
    "\"\"\"\n",
    "Bronnen\n",
    "    https://en.wikipedia.org/wiki/Netherlands\n",
    "    https://en.wikipedia.org/wiki/World_population\n",
    "\"\"\"\n",
    "inwoners_NL = 17.4e6 # 1-1-2019\n",
    "inwoners_wereld = 7.8e9 # maart 2020\n",
    "\n",
    "inwoners_NL_frac_wereld = inwoners_NL / inwoners_wereld \n",
    "\n",
    "print('percentage wereldbevolking: {:.2f} %'.format(inwoners_NL_frac_wereld*100))"
   ]
  },
  {
   "cell_type": "code",
   "execution_count": 6,
   "metadata": {},
   "outputs": [
    {
     "data": {
      "text/plain": [
       "(720000.0, 'Mton')"
      ]
     },
     "execution_count": 6,
     "metadata": {},
     "output_type": "execute_result"
    }
   ],
   "source": [
    "\"\"\"\n",
    "Koolstofbudget om 67% kans te hebben om op 1,75 graden uit te komen\n",
    "d.w.z. om te voldoen Klimaatakkoord Parijs \"ruim onder 2 graden\"\n",
    "\n",
    "Bron\n",
    "    https://scilogs.spektrum.de/klimalounge/wie-viel-co2-kann-deutschland-noch-ausstossen/\n",
    "\"\"\"\n",
    "world_budget_2018 = 800 * 1e9/1e6 # Gt to Mton\n",
    "correction_2020 = 80  *  1e9/1e6 # Gt to Mton\n",
    "\n",
    "world_budget_2020 = world_budget_2018 - correction_2020\n",
    "world_budget_2020, 'Mton'"
   ]
  },
  {
   "cell_type": "code",
   "execution_count": 7,
   "metadata": {},
   "outputs": [
    {
     "data": {
      "text/plain": [
       "(1606.153846153846, 'Mton')"
      ]
     },
     "execution_count": 7,
     "metadata": {},
     "output_type": "execute_result"
    }
   ],
   "source": [
    "budget_NL = inwoners_NL_frac_wereld * world_budget_2020\n",
    "budget_NL, 'Mton'"
   ]
  },
  {
   "cell_type": "code",
   "execution_count": 8,
   "metadata": {},
   "outputs": [
    {
     "data": {
      "text/plain": [
       "8.291966164965649"
      ]
     },
     "execution_count": 8,
     "metadata": {},
     "output_type": "execute_result"
    }
   ],
   "source": [
    "# Met huidige emissies, na hoeveel jaren is het budget op? \n",
    "budget_NL / emis_NL_2017"
   ]
  },
  {
   "cell_type": "markdown",
   "metadata": {},
   "source": [
    "## Voorgenomen beleid (klimaatwet)\n",
    "In de klimaatwet is vastgelegd dat emissies in 2030 met 49% worden gereduceerd, en in 2050 met 95%\n",
    "\n",
    "Bron: https://www.energienieuws.info/2019/05/klimaatwet-aangenomen.html\n",
    "\n",
    "Met een lineaire daling ziet dat er zo uit: "
   ]
  },
  {
   "cell_type": "code",
   "execution_count": 9,
   "metadata": {},
   "outputs": [],
   "source": [
    "# AANNAME 1: het 2020 doel van Urgenda wordt gehaald\n",
    "emis_NL_2020 = 0.75 * emis_NL_1990\n",
    "emis_NL_2030 = 0.51 * emis_NL_1990\n",
    "emis_NL_2050 = 0.05 * emis_NL_1990"
   ]
  },
  {
   "cell_type": "code",
   "execution_count": 10,
   "metadata": {},
   "outputs": [
    {
     "data": {
      "text/plain": [
       "(166.27499999999998, 113.067, 11.085)"
      ]
     },
     "execution_count": 10,
     "metadata": {},
     "output_type": "execute_result"
    }
   ],
   "source": [
    "emis_NL_2020, emis_NL_2030, emis_NL_2050"
   ]
  },
  {
   "cell_type": "code",
   "execution_count": 13,
   "metadata": {},
   "outputs": [],
   "source": [
    "def emissies_2020s(jaar):\n",
    "    daling_per_jaar = (emis_NL_2020 - emis_NL_2030) / 10\n",
    "    return emis_NL_2020 - daling_per_jaar * (jaar-2020)\n",
    "\n",
    "assert(np.isclose(emissies_2020s(2020), emis_NL_2020))\n",
    "assert(np.isclose(emissies_2020s(2030), emis_NL_2030))"
   ]
  },
  {
   "cell_type": "code",
   "execution_count": 14,
   "metadata": {},
   "outputs": [],
   "source": [
    "def emissies_2030s_2040s(jaar):\n",
    "    daling_per_jaar = (emis_NL_2030 - emis_NL_2050) / 20\n",
    "    return emis_NL_2030 - daling_per_jaar * (jaar-2030)\n",
    "\n",
    "assert(np.isclose(emissies_2030s_2040s(2030), emis_NL_2030))\n",
    "assert(np.isclose(emissies_2030s_2040s(2050), emis_NL_2050))"
   ]
  },
  {
   "cell_type": "code",
   "execution_count": 15,
   "metadata": {},
   "outputs": [],
   "source": [
    "years1 = np.arange(2020, 2031)\n",
    "emissies1 = list(map(emissies_2020s, years1))\n",
    "\n",
    "years2 = np.arange(2031, 2051)\n",
    "emissies2 = list(map(emissies_2030s_2040s, years2))"
   ]
  },
  {
   "cell_type": "code",
   "execution_count": 16,
   "metadata": {},
   "outputs": [
    {
     "data": {
      "text/plain": [
       "Text(0, 0.5, 'Totaal emissies (Mton CO2-eq)')"
      ]
     },
     "execution_count": 16,
     "metadata": {},
     "output_type": "execute_result"
    },
    {
     "data": {
      "image/png": "[encoded data removed]",
      "text/plain": [
       "<Figure size 432x288 with 1 Axes>"
      ]
     },
     "metadata": {
      "needs_background": "light"
     },
     "output_type": "display_data"
    }
   ],
   "source": [
    "plt.plot(years1, emissies1, 'o')\n",
    "plt.plot(years2, emissies2, 'o')\n",
    "plt.xlabel('Jaar')\n",
    "plt.ylabel('Totaal emissies (Mton CO2-eq)')"
   ]
  },
  {
   "cell_type": "markdown",
   "metadata": {},
   "source": [
    "We tellen nu de emissies in alle jaren (2020-2050) bij elkaar op om tot een totaal te komen"
   ]
  },
  {
   "cell_type": "code",
   "execution_count": 17,
   "metadata": {},
   "outputs": [
    {
     "data": {
      "text/plain": [
       "2726.91"
      ]
     },
     "execution_count": 17,
     "metadata": {},
     "output_type": "execute_result"
    }
   ],
   "source": [
    "np.sum(emissies1)  + np.sum(emissies2)"
   ]
  },
  {
   "cell_type": "markdown",
   "metadata": {},
   "source": [
    "In vergelijk, het NL budget als berekend als evenredig deel van het wereldbudget (0,22 %), dit is: "
   ]
  },
  {
   "cell_type": "code",
   "execution_count": 18,
   "metadata": {},
   "outputs": [
    {
     "data": {
      "text/plain": [
       "1606.153846153846"
      ]
     },
     "execution_count": 18,
     "metadata": {},
     "output_type": "execute_result"
    }
   ],
   "source": [
    "budget_NL"
   ]
  },
  {
   "cell_type": "markdown",
   "metadata": {},
   "source": [
    "Figuur van Twitter , van Stefan Rahmstorf volgens mij. Lineare emissie-afname is niet voldoende voor Parijs! "
   ]
  },
  {
   "cell_type": "markdown",
   "metadata": {},
   "source": [
    "![title](EX-nHuHWsAAfj9h.jpg)"
   ]
  },
  {
   "cell_type": "code",
   "execution_count": null,
   "metadata": {},
   "outputs": [],
   "source": []
  }
 ],
 "metadata": {
  "kernelspec": {
   "display_name": "Python 3",
   "language": "python",
   "name": "python3"
  },
  "language_info": {
   "codemirror_mode": {
    "name": "ipython",
    "version": 3
   },
   "file_extension": ".py",
   "mimetype": "text/x-python",
   "name": "python",
   "nbconvert_exporter": "python",
   "pygments_lexer": "ipython3",
   "version": "3.6.9"
  }
 },
 "nbformat": 4,
 "nbformat_minor": 2
}

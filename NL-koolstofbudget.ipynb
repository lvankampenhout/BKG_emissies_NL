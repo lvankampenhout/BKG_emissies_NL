{
 "cells": [
  {
   "cell_type": "markdown",
   "metadata": {},
   "source": [
    "# Emissie-reducties \n",
    "\n",
    "## benodigd in NL om te voldoen aan de verplichtingen volgend uit het klimaatakkoord van Parijs\n",
    "\n",
    "Uitgangspunt voor dit notebook zijn de totale hoeveelheid emissies, dus niet alleen CO2 maar ook CH4, F-gassen etc. aangezien deze ook bijdragen aan het broeikaseffect. De belangrijkste bron hierbij zijn de tabellen van de Emissieregistratie : http://www.emissieregistratie.nl/erpubliek/erpub/international/broeikasgassen.aspx\n",
    "\n"
   ]
  },
  {
   "cell_type": "code",
   "execution_count": 48,
   "metadata": {},
   "outputs": [],
   "source": [
    "import pandas as pd\n",
    "import numpy as np\n",
    "import matplotlib.pyplot as plt\n",
    "%matplotlib inline"
   ]
  },
  {
   "cell_type": "markdown",
   "metadata": {},
   "source": [
    "Emissiedata gedownload van <br>\n",
    "https://www.clo.nl/indicatoren/nl0165-broeikasgasemissies-in-nederland?ond=20883 <br>\n",
    "op 29 september 2020"
   ]
  },
  {
   "cell_type": "code",
   "execution_count": 51,
   "metadata": {},
   "outputs": [
    {
     "data": {
      "text/html": [
       "<div>\n",
       "<style scoped>\n",
       "    .dataframe tbody tr th:only-of-type {\n",
       "        vertical-align: middle;\n",
       "    }\n",
       "\n",
       "    .dataframe tbody tr th {\n",
       "        vertical-align: top;\n",
       "    }\n",
       "\n",
       "    .dataframe thead th {\n",
       "        text-align: right;\n",
       "    }\n",
       "</style>\n",
       "<table border=\"1\" class=\"dataframe\">\n",
       "  <thead>\n",
       "    <tr style=\"text-align: right;\">\n",
       "      <th></th>\n",
       "      <th>Mton CO2-equivalenten</th>\n",
       "      <th>Unnamed: 2</th>\n",
       "      <th>Unnamed: 3</th>\n",
       "      <th>Unnamed: 4</th>\n",
       "      <th>Unnamed: 5</th>\n",
       "      <th>Unnamed: 6</th>\n",
       "      <th>Unnamed: 7</th>\n",
       "    </tr>\n",
       "  </thead>\n",
       "  <tbody>\n",
       "    <tr>\n",
       "      <td>2014</td>\n",
       "      <td>159.197</td>\n",
       "      <td>18.008292</td>\n",
       "      <td>8.558245</td>\n",
       "      <td>1.850063</td>\n",
       "      <td>NaN</td>\n",
       "      <td>NaN</td>\n",
       "      <td>NaN</td>\n",
       "    </tr>\n",
       "    <tr>\n",
       "      <td>2015</td>\n",
       "      <td>166.818</td>\n",
       "      <td>18.202621</td>\n",
       "      <td>8.808214</td>\n",
       "      <td>2.044882</td>\n",
       "      <td>NaN</td>\n",
       "      <td>NaN</td>\n",
       "      <td>NaN</td>\n",
       "    </tr>\n",
       "    <tr>\n",
       "      <td>2016</td>\n",
       "      <td>166.733</td>\n",
       "      <td>18.329046</td>\n",
       "      <td>8.476745</td>\n",
       "      <td>1.903725</td>\n",
       "      <td>NaN</td>\n",
       "      <td>NaN</td>\n",
       "      <td>NaN</td>\n",
       "    </tr>\n",
       "    <tr>\n",
       "      <td>2017</td>\n",
       "      <td>164.898</td>\n",
       "      <td>18.012193</td>\n",
       "      <td>8.657644</td>\n",
       "      <td>1.761858</td>\n",
       "      <td>NaN</td>\n",
       "      <td>NaN</td>\n",
       "      <td>NaN</td>\n",
       "    </tr>\n",
       "    <tr>\n",
       "      <td>2018</td>\n",
       "      <td>160.611</td>\n",
       "      <td>17.308777</td>\n",
       "      <td>8.349118</td>\n",
       "      <td>1.928345</td>\n",
       "      <td>NaN</td>\n",
       "      <td>NaN</td>\n",
       "      <td>NaN</td>\n",
       "    </tr>\n",
       "  </tbody>\n",
       "</table>\n",
       "</div>"
      ],
      "text/plain": [
       "     Mton CO2-equivalenten  Unnamed: 2  Unnamed: 3  Unnamed: 4  Unnamed: 5  \\\n",
       "2014               159.197   18.008292    8.558245    1.850063         NaN   \n",
       "2015               166.818   18.202621    8.808214    2.044882         NaN   \n",
       "2016               166.733   18.329046    8.476745    1.903725         NaN   \n",
       "2017               164.898   18.012193    8.657644    1.761858         NaN   \n",
       "2018               160.611   17.308777    8.349118    1.928345         NaN   \n",
       "\n",
       "      Unnamed: 6  Unnamed: 7  \n",
       "2014         NaN         NaN  \n",
       "2015         NaN         NaN  \n",
       "2016         NaN         NaN  \n",
       "2017         NaN         NaN  \n",
       "2018         NaN         NaN  "
      ]
     },
     "execution_count": 51,
     "metadata": {},
     "output_type": "execute_result"
    }
   ],
   "source": [
    "df = pd.read_excel('c-0165-001g-clo-37-nl.xlsx',sheet_name='Emissie broeikasgassen',skiprows=5,index_col=0)\n",
    "\n",
    "\"\"\"\n",
    "2018 is het laatste jaar met *definitieve* data\n",
    "\"\"\" \n",
    "df = df[df.index < 2019]\n",
    "df.index = df.index.astype(int)\n",
    "df.tail()"
   ]
  },
  {
   "cell_type": "markdown",
   "metadata": {},
   "source": [
    "De eerste vier kolommen bevatten de data die we nodig hebben (CO2, CH4, N2O, F-gassen). Hieronder tellen we ze op en plotten het resultaat. "
   ]
  },
  {
   "cell_type": "code",
   "execution_count": 33,
   "metadata": {},
   "outputs": [
    {
     "data": {
      "image/png": "[encoded data removed]",
      "text/plain": [
       "<Figure size 432x288 with 1 Axes>"
      ]
     },
     "metadata": {
      "needs_background": "light"
     },
     "output_type": "display_data"
    }
   ],
   "source": [
    "df_emis_NL = df[df.columns[0:4]].sum(axis=1) \n",
    "df_emis_NL.plot(marker='o')\n",
    "plt.ylim((0,250))\n",
    "plt.grid()"
   ]
  },
  {
   "cell_type": "markdown",
   "metadata": {},
   "source": [
    "Individuele waardes kunnen vergeleken worden met <br>\n",
    "http://www.emissieregistratie.nl/erpubliek/erpub/international/broeikasgassen.aspx"
   ]
  },
  {
   "cell_type": "code",
   "execution_count": 40,
   "metadata": {},
   "outputs": [
    {
     "data": {
      "text/plain": [
       "188.19678902343048"
      ]
     },
     "execution_count": 40,
     "metadata": {},
     "output_type": "execute_result"
    }
   ],
   "source": [
    "df_emis_NL[2018]"
   ]
  },
  {
   "cell_type": "code",
   "execution_count": 37,
   "metadata": {},
   "outputs": [
    {
     "name": "stdout",
     "output_type": "stream",
     "text": [
      "reductie in 2018 t.o.v. 1990\n",
      "15.10 %\n"
     ]
    }
   ],
   "source": [
    "print('reductie in 2018 t.o.v. 1990')\n",
    "print('{:.2f} %'.format((1.0 - df_emis_NL[2018] / df_emis_NL[1990])*100))"
   ]
  },
  {
   "cell_type": "markdown",
   "metadata": {},
   "source": [
    "Ter referentie, het 4e kabinet Balkenende uit 2007 had als doelstelling in het regeerakkoord had opgenomen om de totale emissies in 2020 gereduceerd te hebben met 30% t.o.v. 1990\n",
    "\n",
    "Bron: NRC (https://outline.com/8MyPLN)\n",
    "\n",
    "Deze doelstelling is door latere kabinetten losgelaten. Het Urgenda-vonnis eist alsnog 25% reductie door de staat. \n",
    "\n",
    "Bron: https://www.rijksoverheid.nl/actueel/nieuws/2020/04/24/kabinet-neemt-maatregelen-voor-extra-co2-reductie"
   ]
  },
  {
   "cell_type": "markdown",
   "metadata": {},
   "source": [
    "## Voorgenomen beleid (klimaatwet)\n",
    "In de klimaatwet is vastgelegd dat emissies in 2030 met 49% worden gereduceerd, en in 2050 met 95%\n",
    "\n",
    "Bron: https://www.energienieuws.info/2019/05/klimaatwet-aangenomen.html\n",
    "\n",
    "Met een lineaire daling ziet dat er zo uit: "
   ]
  },
  {
   "cell_type": "code",
   "execution_count": 46,
   "metadata": {},
   "outputs": [],
   "source": [
    "# AANNAME 1: het 2020 doel van Urgenda wordt gehaald\n",
    "emis_NL_2020 = 0.75 * df_emis_NL[1990]\n",
    "emis_NL_2030 = 0.51 * df_emis_NL[1990]\n",
    "emis_NL_2050 = 0.05 * df_emis_NL[1990]"
   ]
  },
  {
   "cell_type": "code",
   "execution_count": 47,
   "metadata": {},
   "outputs": [
    {
     "data": {
      "text/plain": [
       "(166.24354399106141, 113.04560991392177, 11.082902932737428)"
      ]
     },
     "execution_count": 47,
     "metadata": {},
     "output_type": "execute_result"
    }
   ],
   "source": [
    "emis_NL_2020, emis_NL_2030, emis_NL_2050"
   ]
  },
  {
   "cell_type": "code",
   "execution_count": 52,
   "metadata": {},
   "outputs": [],
   "source": [
    "def emissies_2020s(jaar):\n",
    "    daling_per_jaar = (emis_NL_2020 - emis_NL_2030) / 10\n",
    "    return emis_NL_2020 - daling_per_jaar * (jaar-2020)\n",
    "\n",
    "assert(np.isclose(emissies_2020s(2020), emis_NL_2020))\n",
    "assert(np.isclose(emissies_2020s(2030), emis_NL_2030))"
   ]
  },
  {
   "cell_type": "code",
   "execution_count": 53,
   "metadata": {},
   "outputs": [],
   "source": [
    "def emissies_2030s_2040s(jaar):\n",
    "    daling_per_jaar = (emis_NL_2030 - emis_NL_2050) / 20\n",
    "    return emis_NL_2030 - daling_per_jaar * (jaar-2030)\n",
    "\n",
    "assert(np.isclose(emissies_2030s_2040s(2030), emis_NL_2030))\n",
    "assert(np.isclose(emissies_2030s_2040s(2050), emis_NL_2050))"
   ]
  },
  {
   "cell_type": "code",
   "execution_count": 54,
   "metadata": {},
   "outputs": [],
   "source": [
    "years1 = np.arange(2020, 2031)\n",
    "emissies1 = list(map(emissies_2020s, years1))\n",
    "\n",
    "years2 = np.arange(2031, 2051)\n",
    "emissies2 = list(map(emissies_2030s_2040s, years2))"
   ]
  },
  {
   "cell_type": "code",
   "execution_count": 55,
   "metadata": {},
   "outputs": [
    {
     "data": {
      "text/plain": [
       "'/Users/leo/workspace/S4F/BKG_emissies_NL'"
      ]
     },
     "execution_count": 55,
     "metadata": {},
     "output_type": "execute_result"
    }
   ],
   "source": [
    "pwd"
   ]
  },
  {
   "cell_type": "markdown",
   "metadata": {},
   "source": [
    "Voorlopige waarde voor 2019 : 183,9 <br>\n",
    "Bron: `http://www.emissieregistratie.nl/erpubliek/erpub/international/broeikasgassen.aspx` <br>geraadpleegd op 29 sept 2020. "
   ]
  },
  {
   "cell_type": "code",
   "execution_count": 56,
   "metadata": {},
   "outputs": [],
   "source": [
    "df_emis_NL[2019] = 183.9"
   ]
  },
  {
   "cell_type": "code",
   "execution_count": 221,
   "metadata": {},
   "outputs": [],
   "source": [
    "c_dict = {}\n",
    "c_dict['hist'] = 'powderblue' # historical bar chart\n",
    "c_dict['future'] = 'peachpuff' # future bar chart\n",
    "c_dict['edge'] = '#dddddd' # edge"
   ]
  },
  {
   "cell_type": "code",
   "execution_count": 226,
   "metadata": {},
   "outputs": [
    {
     "data": {
      "image/png": "[encoded data removed]",
      "text/plain": [
       "<Figure size 576x288 with 1 Axes>"
      ]
     },
     "metadata": {
      "needs_background": "light"
     },
     "output_type": "display_data"
    }
   ],
   "source": [
    "plt.figure(figsize=(8,4))\n",
    "#lw=2\n",
    "\n",
    "def plot_bar(x, y, color, label=None):\n",
    "    # Helper function to add grey shading on background\n",
    "    plt.bar(x, y, width=1, color=c_dict['edge'])\n",
    "    plt.bar(x, y, label=label, color=color)\n",
    "\n",
    "plot_bar(df_emis_NL.index, df_emis_NL, color=c_dict['hist'], label='historisch')\n",
    "    \n",
    "    \n",
    "plot_bar(years1, emissies1, label='-49% in 2030, -95% in 2050', color=c_dict['future'])\n",
    "plot_bar(years2, emissies2,  color = c_dict['future'])\n",
    "\n",
    "#plt.bar(years1, emissies1,  label='-49% in 2030, -95% in 2050', color=c_dict['future'])\n",
    "#plt.bar(years2, emissies2,  color = c_dict['future'])\n",
    "\n",
    "plt.xlabel('Jaar')\n",
    "plt.ylabel('Totaal emissies (Mton CO2-eq)')\n",
    "plt.legend()\n",
    "\n",
    "hist_sum = df_emis_NL.sum() / 1e3 # Gt\n",
    "plt.text(1995,120,s=f'Emissies 1990-2019',fontdict={'fontsize':12})\n",
    "plt.text(1995,100,s=f'{hist_sum:.1f} Gt',fontdict={'fontsize':16})\n",
    "\n",
    "future_sum = (np.sum(emissies1) + np.sum(emissies2)) / 1e3\n",
    "plt.text(2022,70,s=f'Beoogd budget vanaf 2020',fontdict={'fontsize':12})\n",
    "plt.text(2022,50,s=f'{future_sum:.1f} Gt',fontdict={'fontsize':16})\n",
    "\n",
    "plt.savefig('voorgenomen.png',dpi=200)"
   ]
  },
  {
   "cell_type": "markdown",
   "metadata": {},
   "source": [
    "We tellen nu de emissies in alle jaren (2020-2050) bij elkaar op om tot een totaal te komen"
   ]
  },
  {
   "cell_type": "code",
   "execution_count": 60,
   "metadata": {},
   "outputs": [
    {
     "data": {
      "text/plain": [
       "2726.394121453407"
      ]
     },
     "execution_count": 60,
     "metadata": {},
     "output_type": "execute_result"
    }
   ],
   "source": [
    "np.sum(emissies1)  + np.sum(emissies2)"
   ]
  },
  {
   "cell_type": "markdown",
   "metadata": {},
   "source": [
    "# Koolstofbudget berekeningen"
   ]
  },
  {
   "cell_type": "markdown",
   "metadata": {},
   "source": [
    "Eerst wat algemene variabelen uitrekenen."
   ]
  },
  {
   "cell_type": "code",
   "execution_count": 75,
   "metadata": {},
   "outputs": [
    {
     "name": "stdout",
     "output_type": "stream",
     "text": [
      "Bevolking NL als percentage wereldbevolking: 0.22 %\n"
     ]
    }
   ],
   "source": [
    "inwoners_NL = 17.4e6 # 1-1-2019, https://en.wikipedia.org/wiki/Netherlands\n",
    "inwoners_wereld = 7.8e9 # maart 2020, https://en.wikipedia.org/wiki/World_population\n",
    "\n",
    "inwoners_NL_frac_wereld = inwoners_NL / inwoners_wereld \n",
    "\n",
    "print('Bevolking NL als percentage wereldbevolking: {:.2f} %'.format(inwoners_NL_frac_wereld*100))"
   ]
  },
  {
   "cell_type": "markdown",
   "metadata": {},
   "source": [
    "In het Urgenda-vonnis werd bepaald: 25% reductie in 2020 t.o.v. 1990"
   ]
  },
  {
   "cell_type": "code",
   "execution_count": 135,
   "metadata": {},
   "outputs": [
    {
     "name": "stdout",
     "output_type": "stream",
     "text": [
      "Emissies NL in 2020: 166.2 Mton\n"
     ]
    }
   ],
   "source": [
    "emis_Urgenda = df_emis_NL[1990] * 0.75 # \n",
    "print(f'Emissies NL in 2020: {emis_Urgenda:.1f} Mton')"
   ]
  },
  {
   "cell_type": "markdown",
   "metadata": {},
   "source": [
    "## Berekening 1: Parijs 1,75 graad (66% kans)"
   ]
  },
  {
   "cell_type": "markdown",
   "metadata": {},
   "source": [
    "*Dit is een interpretatie van de doelstelling \"ruim onder 2 graden\" uit het Klimaatakkoord van Parijs.*\n",
    "\n",
    "Aannames: \n",
    "* Mondiale koolstofbudget uit: IPCC SR1, tabel 2.2. \n",
    "* Het koolstofbudget voor Nederland is evenredig met haar bevolking\n",
    "* Het koolstofbudget wordt \"uitgedeeld\" per 1.1.2016, kort na het Akkoord van van Parijs\n",
    "* Het Urgenda-vonnis wordt gehaald, waarmee de emissies in 2020 uitkomen op 166,2 Mton"
   ]
  },
  {
   "cell_type": "code",
   "execution_count": 98,
   "metadata": {},
   "outputs": [
    {
     "name": "stdout",
     "output_type": "stream",
     "text": [
      "Koolstofbudget wereld per 1.1.2016: 880000 Mton\n"
     ]
    }
   ],
   "source": [
    "budget_2018 = 800 * 1e9/1e6 # Gt naar Mton, begin 2018\n",
    "correctie_2016 = 80  *  1e9/1e6 # mondiale uitstoot ca. 40 Gt per jaar\n",
    "\n",
    "budget_2016 = budget_2018 + correctie_2016\n",
    "\n",
    "print(f'Koolstofbudget wereld per 1.1.2016: {budget_2016:.0f} Mton')"
   ]
  },
  {
   "cell_type": "code",
   "execution_count": 95,
   "metadata": {},
   "outputs": [
    {
     "name": "stdout",
     "output_type": "stream",
     "text": [
      "Koolstofbudget NL per 1.1.2016: 1963 Mton\n"
     ]
    }
   ],
   "source": [
    "budget_NL_2016 = inwoners_NL_frac_wereld * budget_2016\n",
    "print(f'Koolstofbudget NL per 1.1.2016: {budget_NL_2016:.0f} Mton')"
   ]
  },
  {
   "cell_type": "markdown",
   "metadata": {},
   "source": [
    "Sinds het peiljaar 2016 zijn we 4 jaren verder met weinig mitigatie. Het budget per 1.1.2020 is geslonken tot"
   ]
  },
  {
   "cell_type": "code",
   "execution_count": 133,
   "metadata": {},
   "outputs": [
    {
     "name": "stdout",
     "output_type": "stream",
     "text": [
      "Koolstofbudget NL per 1.1.2020: 1202 Mton\n"
     ]
    }
   ],
   "source": [
    "budget_NL_2020 = budget_NL_2016 - df_emis_NL[[2016,2017,2018,2019]].sum()\n",
    "print(f'Koolstofbudget NL per 1.1.2020: {budget_NL_2020:.0f} Mton')"
   ]
  },
  {
   "cell_type": "markdown",
   "metadata": {},
   "source": [
    "Met huidige emissies (2020 / Urgenda) na hoeveel jaren is het budget op? "
   ]
  },
  {
   "cell_type": "code",
   "execution_count": 136,
   "metadata": {},
   "outputs": [
    {
     "data": {
      "text/plain": [
       "7.231608860003495"
      ]
     },
     "execution_count": 136,
     "metadata": {},
     "output_type": "execute_result"
    }
   ],
   "source": [
    "budget_NL_2020 / emis_Urgenda"
   ]
  },
  {
   "cell_type": "markdown",
   "metadata": {},
   "source": [
    "Gegeven het budget, dit is de tijd die we hebben om de emissies lineair naar nul te brengen. Het aantal is INCLUSIEF het startjaar, te weten 2020"
   ]
  },
  {
   "cell_type": "code",
   "execution_count": 108,
   "metadata": {},
   "outputs": [
    {
     "data": {
      "text/plain": [
       "14"
      ]
     },
     "execution_count": 108,
     "metadata": {},
     "output_type": "execute_result"
    }
   ],
   "source": [
    "jaren_tot_nul = np.int((budget_NL_2020 * 2 ) / emis_Urgenda)\n",
    "jaren_tot_nul"
   ]
  },
  {
   "cell_type": "markdown",
   "metadata": {},
   "source": [
    "Beetje Pandas magic om de lineaire reductie om te zetten in een emissie-waarde per jaar: "
   ]
  },
  {
   "cell_type": "code",
   "execution_count": 143,
   "metadata": {},
   "outputs": [
    {
     "data": {
      "text/plain": [
       "2020    166.243544\n",
       "2021    153.455579\n",
       "2022    140.667614\n",
       "2023    127.879649\n",
       "2024    115.091684\n",
       "2025    102.303719\n",
       "2026     89.515754\n",
       "2027     76.727790\n",
       "2028     63.939825\n",
       "2029     51.151860\n",
       "2030     38.363895\n",
       "2031     25.575930\n",
       "2032     12.787965\n",
       "2033      0.000000\n",
       "dtype: float64"
      ]
     },
     "execution_count": 143,
     "metadata": {},
     "output_type": "execute_result"
    }
   ],
   "source": [
    "df = pd.Series(index=np.arange(2020,2020+jaren_tot_nul))\n",
    "df[2020] = emis_Urgenda\n",
    "df[df.index[-1]] = 0\n",
    "df_1p75_lin = df.interpolate()\n",
    "df_1p75_lin"
   ]
  },
  {
   "cell_type": "code",
   "execution_count": 150,
   "metadata": {},
   "outputs": [
    {
     "name": "stdout",
     "output_type": "stream",
     "text": [
      "Lineaire emissiedaling naar nul in 2033: 1164 Mton\n",
      "Restant door afronding: 39 Mton\n"
     ]
    }
   ],
   "source": [
    "print(f'Lineaire emissiedaling naar nul in {df_1p75_lin.index[-1]}: {df_1p75_lin.sum():.0f} Mton')\n",
    "print(f'Restant door afronding: {budget_NL_2020-df_1p75_lin.sum():.0f} Mton')"
   ]
  },
  {
   "cell_type": "code",
   "execution_count": 227,
   "metadata": {},
   "outputs": [
    {
     "data": {
      "text/plain": [
       "Text(2022, 50, '1.2 Gt')"
      ]
     },
     "execution_count": 227,
     "metadata": {},
     "output_type": "execute_result"
    },
    {
     "data": {
      "image/png": "[encoded data removed]",
      "text/plain": [
       "<Figure size 576x288 with 1 Axes>"
      ]
     },
     "metadata": {
      "needs_background": "light"
     },
     "output_type": "display_data"
    }
   ],
   "source": [
    "plt.figure(figsize=(8,4))\n",
    "\n",
    "plot_bar(df_emis_NL.index, df_emis_NL, label='historisch', color=c_dict['hist'])\n",
    "plot_bar(df_1p75_lin.index, df_1p75_lin, label='lineair 1.75 graad', color=c_dict['future'])\n",
    "\n",
    "plt.xlabel('Jaar')\n",
    "plt.ylabel('Totaal emissies (Mton CO2-eq)')\n",
    "plt.legend()\n",
    "\n",
    "hist_sum = df_emis_NL.sum() / 1e3 # Gt\n",
    "plt.text(1995,120,s=f'Emissies 1990-2019',fontdict={'fontsize':12})\n",
    "plt.text(1995,100,s=f'{hist_sum:.1f} Gt',fontdict={'fontsize':16})\n",
    "\n",
    "future_sum = df_1p75_lin.sum() / 1e3\n",
    "plt.text(2022,70,s=f'Budget vanaf 1-1-2020',fontdict={'fontsize':12})\n",
    "plt.text(2022,50,s=f'{future_sum:.1f} Gt',fontdict={'fontsize':16})"
   ]
  },
  {
   "cell_type": "markdown",
   "metadata": {},
   "source": [
    "Jaarlijkse emissie reductie als % van het jaar 2019 en 2020. "
   ]
  },
  {
   "cell_type": "code",
   "execution_count": 164,
   "metadata": {},
   "outputs": [
    {
     "name": "stdout",
     "output_type": "stream",
     "text": [
      "Jaarlijkse emissie reductie: 7.0 % van peiljaar 2019\n",
      "Jaarlijkse emissie reductie: 7.7 % van peiljaar 2020\n"
     ]
    }
   ],
   "source": [
    "perc = (df_1p75_lin[2020]-df_1p75_lin[2021]) / df_emis_NL[2019] * 100 \n",
    "print(f'Jaarlijkse emissie reductie: {perc:.1f} % van peiljaar 2019')\n",
    "\n",
    "perc = (df_1p75_lin[2020]-df_1p75_lin[2021]) / emis_Urgenda * 100 \n",
    "print(f'Jaarlijkse emissie reductie: {perc:.1f} % van peiljaar 2020')"
   ]
  },
  {
   "cell_type": "markdown",
   "metadata": {},
   "source": [
    "## Berekening 2: Parijs 1,5 graad (66% kans)"
   ]
  },
  {
   "cell_type": "markdown",
   "metadata": {},
   "source": [
    "*waarbij ook rekening wordt gehouden met terugkoppelingen in het aardsysteem (Earth System Feedbacks). <br>\n",
    "Dit is de eis van Fridays For Future in hun open brief [Face The Climate Emergency](https://climateemergencyeu.org/).<br>\n",
    "Onder de mede-ondertekenaars bevinden zich ook vele wetenschappers, waaronder Stefan Rahmstorf en Volker Quaschning van Scientists For Future.*\n",
    "\n",
    "\n",
    "Aannames: \n",
    "* Mondiale koolstofbudget uit: IPCC SR1, tabel 2.2.\n",
    "* Volgens dezelfde tabel: Earth System Feedbacks: reduce budgets by ~100 Gt\n",
    "* Het koolstofbudget voor Nederland is evenredig met haar bevolking\n",
    "* Het koolstofbudget wordt \"uitgedeeld\" per 1.1.2016, kort na het Akkoord van van Parijs"
   ]
  },
  {
   "cell_type": "code",
   "execution_count": 228,
   "metadata": {},
   "outputs": [
    {
     "name": "stdout",
     "output_type": "stream",
     "text": [
      "Koolstofbudget wereld per 1.1.2016: 400000 Mton\n"
     ]
    }
   ],
   "source": [
    "budget_2018 = 420 * 1e3 # Mton, begin 2018\n",
    "correctie_feedbacks = -100 * 1e3 # Earth System Feedbacks\n",
    "correctie_2016 = 80  *  1e9/1e6 # mondiale uitstoot ca. 40 Gt per jaar\n",
    "\n",
    "budget_2016 = budget_2018 + correctie_2016 + correctie_feedbacks\n",
    "\n",
    "print(f'Koolstofbudget wereld per 1.1.2016: {budget_2016:.0f} Mton')"
   ]
  },
  {
   "cell_type": "code",
   "execution_count": 229,
   "metadata": {},
   "outputs": [
    {
     "name": "stdout",
     "output_type": "stream",
     "text": [
      "Koolstofbudget NL per 1.1.2016: 892 Mton\n"
     ]
    }
   ],
   "source": [
    "budget_NL_2016 = inwoners_NL_frac_wereld * budget_2016\n",
    "print(f'Koolstofbudget NL per 1.1.2016: {budget_NL_2016:.0f} Mton')"
   ]
  },
  {
   "cell_type": "markdown",
   "metadata": {},
   "source": [
    "Sinds het peiljaar 2016 zijn we 4 jaren verder met weinig mitigatie. Het budget per 1.1.2020 is geslonken tot"
   ]
  },
  {
   "cell_type": "code",
   "execution_count": 237,
   "metadata": {},
   "outputs": [
    {
     "name": "stdout",
     "output_type": "stream",
     "text": [
      "Koolstofbudget NL per 1.1.2020: 535 Mton\n"
     ]
    }
   ],
   "source": [
    "#budget_NL_2020 = budget_NL_2016 - df_emis_NL[[2016,2017,2018,2019]].sum()\n",
    "\n",
    "budget_NL_2020 = (budget_2016 - 160e3 ) * inwoners_NL_frac_wereld # Alternatief: taart verdelen vanaf 1.1.2020\n",
    "print(f'Koolstofbudget NL per 1.1.2020: {budget_NL_2020:.0f} Mton')"
   ]
  },
  {
   "cell_type": "markdown",
   "metadata": {},
   "source": [
    "Met huidige emissies (2020 / Urgenda) na hoeveel jaren is het budget op? "
   ]
  },
  {
   "cell_type": "code",
   "execution_count": 235,
   "metadata": {},
   "outputs": [
    {
     "data": {
      "text/plain": [
       "3.2204836502607397"
      ]
     },
     "execution_count": 235,
     "metadata": {},
     "output_type": "execute_result"
    }
   ],
   "source": [
    "budget_NL_2020 / emis_Urgenda"
   ]
  },
  {
   "cell_type": "markdown",
   "metadata": {},
   "source": [
    "Gegeven het budget, dit is de tijd die we hebben om de emissies lineair naar nul te brengen. Het aantal is INCLUSIEF het startjaar, te weten 2020"
   ]
  },
  {
   "cell_type": "code",
   "execution_count": 232,
   "metadata": {},
   "outputs": [
    {
     "data": {
      "text/plain": [
       "1"
      ]
     },
     "execution_count": 232,
     "metadata": {},
     "output_type": "execute_result"
    }
   ],
   "source": [
    "jaren_tot_nul = np.int((budget_NL_2020 * 2 ) / emis_Urgenda)\n",
    "jaren_tot_nul"
   ]
  },
  {
   "cell_type": "markdown",
   "metadata": {},
   "source": [
    "Beetje Pandas magic om de lineaire reductie om te zetten in een emissie-waarde per jaar: "
   ]
  },
  {
   "cell_type": "code",
   "execution_count": 143,
   "metadata": {},
   "outputs": [
    {
     "data": {
      "text/plain": [
       "2020    166.243544\n",
       "2021    153.455579\n",
       "2022    140.667614\n",
       "2023    127.879649\n",
       "2024    115.091684\n",
       "2025    102.303719\n",
       "2026     89.515754\n",
       "2027     76.727790\n",
       "2028     63.939825\n",
       "2029     51.151860\n",
       "2030     38.363895\n",
       "2031     25.575930\n",
       "2032     12.787965\n",
       "2033      0.000000\n",
       "dtype: float64"
      ]
     },
     "execution_count": 143,
     "metadata": {},
     "output_type": "execute_result"
    }
   ],
   "source": [
    "df = pd.Series(index=np.arange(2020,2020+jaren_tot_nul))\n",
    "df[2020] = emis_Urgenda\n",
    "df[df.index[-1]] = 0\n",
    "df_1p75_lin = df.interpolate()\n",
    "df_1p75_lin"
   ]
  },
  {
   "cell_type": "code",
   "execution_count": 150,
   "metadata": {},
   "outputs": [
    {
     "name": "stdout",
     "output_type": "stream",
     "text": [
      "Lineaire emissiedaling naar nul in 2033: 1164 Mton\n",
      "Restant door afronding: 39 Mton\n"
     ]
    }
   ],
   "source": [
    "print(f'Lineaire emissiedaling naar nul in {df_1p75_lin.index[-1]}: {df_1p75_lin.sum():.0f} Mton')\n",
    "print(f'Restant door afronding: {budget_NL_2020-df_1p75_lin.sum():.0f} Mton')"
   ]
  },
  {
   "cell_type": "code",
   "execution_count": 227,
   "metadata": {},
   "outputs": [
    {
     "data": {
      "text/plain": [
       "Text(2022, 50, '1.2 Gt')"
      ]
     },
     "execution_count": 227,
     "metadata": {},
     "output_type": "execute_result"
    },
    {
     "data": {
      "image/png": "[encoded data removed]",
      "text/plain": [
       "<Figure size 576x288 with 1 Axes>"
      ]
     },
     "metadata": {
      "needs_background": "light"
     },
     "output_type": "display_data"
    }
   ],
   "source": [
    "plt.figure(figsize=(8,4))\n",
    "\n",
    "plot_bar(df_emis_NL.index, df_emis_NL, label='historisch', color=c_dict['hist'])\n",
    "plot_bar(df_1p75_lin.index, df_1p75_lin, label='lineair 1.75 graad', color=c_dict['future'])\n",
    "\n",
    "plt.xlabel('Jaar')\n",
    "plt.ylabel('Totaal emissies (Mton CO2-eq)')\n",
    "plt.legend()\n",
    "\n",
    "hist_sum = df_emis_NL.sum() / 1e3 # Gt\n",
    "plt.text(1995,120,s=f'Emissies 1990-2019',fontdict={'fontsize':12})\n",
    "plt.text(1995,100,s=f'{hist_sum:.1f} Gt',fontdict={'fontsize':16})\n",
    "\n",
    "future_sum = df_1p75_lin.sum() / 1e3\n",
    "plt.text(2022,70,s=f'Budget vanaf 1-1-2020',fontdict={'fontsize':12})\n",
    "plt.text(2022,50,s=f'{future_sum:.1f} Gt',fontdict={'fontsize':16})"
   ]
  },
  {
   "cell_type": "code",
   "execution_count": null,
   "metadata": {},
   "outputs": [],
   "source": []
  }
 ],
 "metadata": {
  "kernelspec": {
   "display_name": "Python 3",
   "language": "python",
   "name": "python3"
  },
  "language_info": {
   "codemirror_mode": {
    "name": "ipython",
    "version": 3
   },
   "file_extension": ".py",
   "mimetype": "text/x-python",
   "name": "python",
   "nbconvert_exporter": "python",
   "pygments_lexer": "ipython3",
   "version": "3.6.9"
  }
 },
 "nbformat": 4,
 "nbformat_minor": 2
}

{
 "cells": [
  {
   "cell_type": "markdown",
   "metadata": {},
   "source": [
    "# Introductie\n",
    "\n",
    "In dit notebook kijk ik enerzijds naar historische emissies van broeikasgassen (BKG) sinds 1990 in Nederland, en anderzijds naar het voorgenomen beleid zoals beschreven in de Klimaatwet, en vergelijk in hoeverre dit overeenkomt met datgene afgesproken in het [Akkoord van Parijs](https://nl.wikipedia.org/wiki/Akkoord_van_Parijs). \n",
    "\n",
    "Het begrip **koolstofbudget** is hierbij van belang. Het wereldwijde koolstofbudget is ruwweg de bovengrens aan cumulatieve toekomstige BKG-emissies die nog compatibel zijn met een bepaalde temperatuursdoelstelling. Het is geëigend om het koolstofbudget te gebruiken vanwege een bijna lineaire relatie tussen temperatuur en cumulatieve emissies (zie [Figuur 1b - Relatie temperatuurstijging en cumulatieve CO2-emissie](https://esb-external-prod.imgix.net/02bCMOIq6trNtBqF8rk02g-AEiI.png?cs=tinysrgb&w=1280); bron: PBL.) Dit betekent overigens ***geenzins*** dat de gevolgen van de temperatuursstijging lineair is! De toegenomen risico's van 1 naar 2 graad opwarming (+1º) zijn zeer zeker kleiner dan die van 2 naar 3 graad opwarming (+1º): de gevolgen zijn daarmee non-lineair. Aan het begrip koolstofbudget kleven een [aantal complicerende aspecten](https://www.carbonbrief.org/analysis-how-much-carbon-budget-is-left-to-limit-global-warming-to-1-5c), zoals de mogelijkheid van net-negatieve emissies, die we hier voor de eenvoud zullen negeren. \n",
    "\n",
    "Bij het berekenen van een nationaal koolstofbudget (zoals dat van Nederland) is het begrip **equity** van belang, ofwel rechtvaardigheid. In het Akkoord van Parijs wordt hier veelvuldig over gesproken, bijvoorbeeld in [Artikel 2.2](https://en.wikisource.org/wiki/Paris_Agreement#Article_2): \n",
    ">This Agreement will be implemented to reflect equity and the principle of common but differentiated responsibilities and respective capabilities, in the light of different national circumstances.\n",
    "\n",
    "of in [Artikel 4.1](https://en.wikisource.org/wiki/Paris_Agreement#Article_4): \n",
    "> In order to achieve the long-term temperature goal set out in Article 2, Parties aim to reach global peaking of greenhouse gas emissions as soon as possible, recognizing that peaking will take longer for developing country Parties, and to undertake rapid reductions thereafter in accordance with best available science, so as to achieve a balance between anthropogenic emissions by sources and removals by sinks of greenhouse gases in the second half of this century, on the basis of equity, and in the context of sustainable development and efforts to eradicate poverty. \n",
    "\n",
    "Vrij vertaald naar het Nederlands: 'de sterkste schouders zullen de zwaarste lasten dragen'. Deze formulering is dermate vaag dat er veel ruimte voor interpretatie overblijft. Het rekenen met nationale koolstofbudget is daarom geen exacte wetenschap, omdat keuzes in 'wat is eerlijk' de uitkomst in hoge mate bepalen. Hierover later meer. \n",
    "\n",
    "In dit notebook baseer ik mij op het (op dit moment meest recente) IPCC rapport uit 2018 waar mondiale koolstofbudgetten worden berekend - het [Special Report on Global Warming of 1.5 ºC](https://www.ipcc.ch/sr15/). Meegenomen worden de totale hoeveelheid emissies, dus niet alleen CO2 maar ook methaan, F-gassen etc. aangezien deze ook bijdragen aan het broeikaseffect. Elke BKG-bron wordt uitgedrukt in CO2-equivalent (afgekort tot CO2-eq.) om het inzichtelijk en vergelijkbaar te maken. De gebruikte informatiebron voor historische emissies in Nederland zijn de BKG-tabellen van de [Emissieregistratie](http://www.emissieregistratie.nl/erpubliek/erpub/international/broeikasgassen.aspx), tevens te vinden bij het [Compendium voor de Leefomgeving](https://www.clo.nl/indicatoren/nl0165-broeikasgasemissies-in-nederland?ond=20883). \n",
    "\n",
    "\n",
    "Leo van Kampenhout<br>\n",
    "september/oktober 2020"
   ]
  },
  {
   "cell_type": "code",
   "execution_count": 22,
   "metadata": {},
   "outputs": [],
   "source": [
    "import pandas as pd\n",
    "import numpy as np\n",
    "import matplotlib.pyplot as plt\n",
    "%matplotlib inline"
   ]
  },
  {
   "cell_type": "markdown",
   "metadata": {},
   "source": [
    "# Deel 1 - Historische emissies in Nederland, en voorgenomen beleid"
   ]
  },
  {
   "cell_type": "markdown",
   "metadata": {},
   "source": [
    "Emissiedata gedownload van <br>\n",
    "https://www.clo.nl/indicatoren/nl0165-broeikasgasemissies-in-nederland?ond=20883 <br>\n",
    "op 29 september 2020"
   ]
  },
  {
   "cell_type": "code",
   "execution_count": 23,
   "metadata": {},
   "outputs": [
    {
     "data": {
      "text/html": [
       "<div>\n",
       "<style scoped>\n",
       "    .dataframe tbody tr th:only-of-type {\n",
       "        vertical-align: middle;\n",
       "    }\n",
       "\n",
       "    .dataframe tbody tr th {\n",
       "        vertical-align: top;\n",
       "    }\n",
       "\n",
       "    .dataframe thead th {\n",
       "        text-align: right;\n",
       "    }\n",
       "</style>\n",
       "<table border=\"1\" class=\"dataframe\">\n",
       "  <thead>\n",
       "    <tr style=\"text-align: right;\">\n",
       "      <th></th>\n",
       "      <th>Mton CO2-equivalenten</th>\n",
       "      <th>Unnamed: 2</th>\n",
       "      <th>Unnamed: 3</th>\n",
       "      <th>Unnamed: 4</th>\n",
       "      <th>Unnamed: 5</th>\n",
       "      <th>Unnamed: 6</th>\n",
       "      <th>Unnamed: 7</th>\n",
       "    </tr>\n",
       "  </thead>\n",
       "  <tbody>\n",
       "    <tr>\n",
       "      <td>2014</td>\n",
       "      <td>159.197</td>\n",
       "      <td>18.008292</td>\n",
       "      <td>8.558245</td>\n",
       "      <td>1.850063</td>\n",
       "      <td>NaN</td>\n",
       "      <td>NaN</td>\n",
       "      <td>NaN</td>\n",
       "    </tr>\n",
       "    <tr>\n",
       "      <td>2015</td>\n",
       "      <td>166.818</td>\n",
       "      <td>18.202621</td>\n",
       "      <td>8.808214</td>\n",
       "      <td>2.044882</td>\n",
       "      <td>NaN</td>\n",
       "      <td>NaN</td>\n",
       "      <td>NaN</td>\n",
       "    </tr>\n",
       "    <tr>\n",
       "      <td>2016</td>\n",
       "      <td>166.733</td>\n",
       "      <td>18.329046</td>\n",
       "      <td>8.476745</td>\n",
       "      <td>1.903725</td>\n",
       "      <td>NaN</td>\n",
       "      <td>NaN</td>\n",
       "      <td>NaN</td>\n",
       "    </tr>\n",
       "    <tr>\n",
       "      <td>2017</td>\n",
       "      <td>164.898</td>\n",
       "      <td>18.012193</td>\n",
       "      <td>8.657644</td>\n",
       "      <td>1.761858</td>\n",
       "      <td>NaN</td>\n",
       "      <td>NaN</td>\n",
       "      <td>NaN</td>\n",
       "    </tr>\n",
       "    <tr>\n",
       "      <td>2018</td>\n",
       "      <td>160.611</td>\n",
       "      <td>17.308777</td>\n",
       "      <td>8.349118</td>\n",
       "      <td>1.928345</td>\n",
       "      <td>NaN</td>\n",
       "      <td>NaN</td>\n",
       "      <td>NaN</td>\n",
       "    </tr>\n",
       "  </tbody>\n",
       "</table>\n",
       "</div>"
      ],
      "text/plain": [
       "     Mton CO2-equivalenten  Unnamed: 2  Unnamed: 3  Unnamed: 4  Unnamed: 5  \\\n",
       "2014               159.197   18.008292    8.558245    1.850063         NaN   \n",
       "2015               166.818   18.202621    8.808214    2.044882         NaN   \n",
       "2016               166.733   18.329046    8.476745    1.903725         NaN   \n",
       "2017               164.898   18.012193    8.657644    1.761858         NaN   \n",
       "2018               160.611   17.308777    8.349118    1.928345         NaN   \n",
       "\n",
       "      Unnamed: 6  Unnamed: 7  \n",
       "2014         NaN         NaN  \n",
       "2015         NaN         NaN  \n",
       "2016         NaN         NaN  \n",
       "2017         NaN         NaN  \n",
       "2018         NaN         NaN  "
      ]
     },
     "execution_count": 23,
     "metadata": {},
     "output_type": "execute_result"
    }
   ],
   "source": [
    "df = pd.read_excel('c-0165-001g-clo-37-nl.xlsx',sheet_name='Emissie broeikasgassen',skiprows=5,index_col=0)\n",
    "\n",
    "\"\"\"\n",
    "2018 is het laatste jaar met *definitieve* data\n",
    "\"\"\" \n",
    "df = df[df.index < 2019]\n",
    "df.index = df.index.astype(int)\n",
    "df.tail()"
   ]
  },
  {
   "cell_type": "markdown",
   "metadata": {},
   "source": [
    "De eerste vier kolommen bevatten de data die we nodig hebben (CO2, CH4, N2O, F-gassen). Hieronder tellen we ze op en plotten het resultaat. "
   ]
  },
  {
   "cell_type": "code",
   "execution_count": 24,
   "metadata": {},
   "outputs": [
    {
     "data": {
      "image/png": "[encoded data removed]",
      "text/plain": [
       "<Figure size 432x288 with 1 Axes>"
      ]
     },
     "metadata": {
      "needs_background": "light"
     },
     "output_type": "display_data"
    }
   ],
   "source": [
    "df_emis_NL = df[df.columns[0:4]].sum(axis=1) \n",
    "df_emis_NL.plot(marker='o')\n",
    "plt.ylim((0,250))\n",
    "plt.grid()"
   ]
  },
  {
   "cell_type": "markdown",
   "metadata": {},
   "source": [
    "Individuele waardes kunnen vergeleken worden met de website van [Emissieregistratie](http://www.emissieregistratie.nl/erpubliek/erpub/international/broeikasgassen.aspx), om te checken dat we hetzelfde berekend hebben. "
   ]
  },
  {
   "cell_type": "code",
   "execution_count": 25,
   "metadata": {},
   "outputs": [
    {
     "data": {
      "text/plain": [
       "188.19678902343048"
      ]
     },
     "execution_count": 25,
     "metadata": {},
     "output_type": "execute_result"
    }
   ],
   "source": [
    "df_emis_NL[2018]"
   ]
  },
  {
   "cell_type": "markdown",
   "metadata": {},
   "source": [
    "### Reductie 2018"
   ]
  },
  {
   "cell_type": "code",
   "execution_count": 26,
   "metadata": {},
   "outputs": [
    {
     "name": "stdout",
     "output_type": "stream",
     "text": [
      "reductie in 2018 t.o.v. 1990\n",
      "15.10 %\n"
     ]
    }
   ],
   "source": [
    "print('reductie in 2018 t.o.v. 1990')\n",
    "print('{:.2f} %'.format((1.0 - df_emis_NL[2018] / df_emis_NL[1990])*100))"
   ]
  },
  {
   "cell_type": "markdown",
   "metadata": {},
   "source": [
    "Ter referentie, het 4e kabinet Balkenende uit 2007 had als doelstelling in het regeerakkoord had opgenomen om de totale emissies in 2020 gereduceerd te hebben met 30% t.o.v. 1990 (bron: [NRC](https://outline.com/8MyPLN)). Deze doelstelling is door latere kabinetten losgelaten. Het Urgenda-vonnis eist alsnog 25% reductie door de staat (bron: [Rijksoverheid](https://www.rijksoverheid.nl/actueel/nieuws/2020/04/24/kabinet-neemt-maatregelen-voor-extra-co2-reductie)). "
   ]
  },
  {
   "cell_type": "markdown",
   "metadata": {},
   "source": [
    "### Voorgenomen beleid (klimaatwet)\n",
    "In de klimaatwet is vastgelegd dat emissies in 2030 met 49% worden gereduceerd, en in 2050 met 95%\n",
    "\n",
    "Bron: https://www.energienieuws.info/2019/05/klimaatwet-aangenomen.html\n",
    "\n",
    "Met een lineaire daling ziet dat er zo uit: "
   ]
  },
  {
   "cell_type": "code",
   "execution_count": 27,
   "metadata": {},
   "outputs": [],
   "source": [
    "# AANNAME 1: het 2020 doel van Urgenda wordt gehaald\n",
    "emis_NL_2020 = 0.75 * df_emis_NL[1990]\n",
    "emis_NL_2030 = 0.51 * df_emis_NL[1990]\n",
    "emis_NL_2050 = 0.05 * df_emis_NL[1990]"
   ]
  },
  {
   "cell_type": "code",
   "execution_count": 28,
   "metadata": {},
   "outputs": [
    {
     "data": {
      "text/plain": [
       "(166.24354399106141, 113.04560991392177, 11.082902932737428)"
      ]
     },
     "execution_count": 28,
     "metadata": {},
     "output_type": "execute_result"
    }
   ],
   "source": [
    "emis_NL_2020, emis_NL_2030, emis_NL_2050"
   ]
  },
  {
   "cell_type": "code",
   "execution_count": 29,
   "metadata": {},
   "outputs": [],
   "source": [
    "def emissies_2020s(jaar):\n",
    "    daling_per_jaar = (emis_NL_2020 - emis_NL_2030) / 10\n",
    "    return emis_NL_2020 - daling_per_jaar * (jaar-2020)\n",
    "\n",
    "assert(np.isclose(emissies_2020s(2020), emis_NL_2020))\n",
    "assert(np.isclose(emissies_2020s(2030), emis_NL_2030))"
   ]
  },
  {
   "cell_type": "code",
   "execution_count": 30,
   "metadata": {},
   "outputs": [],
   "source": [
    "def emissies_2030s_2040s(jaar):\n",
    "    daling_per_jaar = (emis_NL_2030 - emis_NL_2050) / 20\n",
    "    return emis_NL_2030 - daling_per_jaar * (jaar-2030)\n",
    "\n",
    "assert(np.isclose(emissies_2030s_2040s(2030), emis_NL_2030))\n",
    "assert(np.isclose(emissies_2030s_2040s(2050), emis_NL_2050))"
   ]
  },
  {
   "cell_type": "code",
   "execution_count": 31,
   "metadata": {},
   "outputs": [],
   "source": [
    "years1 = np.arange(2020, 2031)\n",
    "emissies1 = list(map(emissies_2020s, years1))\n",
    "\n",
    "years2 = np.arange(2031, 2051)\n",
    "emissies2 = list(map(emissies_2030s_2040s, years2))"
   ]
  },
  {
   "cell_type": "markdown",
   "metadata": {},
   "source": [
    "Voorlopige waarde voor 2019 : 183,9 <br>\n",
    "Bron: `http://www.emissieregistratie.nl/erpubliek/erpub/international/broeikasgassen.aspx` <br>geraadpleegd op 29 sept 2020. "
   ]
  },
  {
   "cell_type": "code",
   "execution_count": 32,
   "metadata": {},
   "outputs": [],
   "source": [
    "df_emis_NL[2019] = 183.9"
   ]
  },
  {
   "cell_type": "code",
   "execution_count": 166,
   "metadata": {},
   "outputs": [],
   "source": [
    "c_dict = {}\n",
    "c_dict['hist'] = 'powderblue' # historical bar chart\n",
    "c_dict['future'] = 'peachpuff' # future bar chart\n",
    "c_dict['future2'] = 'sandybrown' # future bar chart\n",
    "c_dict['edge'] = '#dddddd' # edge"
   ]
  },
  {
   "cell_type": "code",
   "execution_count": 57,
   "metadata": {},
   "outputs": [
    {
     "data": {
      "image/png": "[encoded data removed]",
      "text/plain": [
       "<Figure size 576x288 with 1 Axes>"
      ]
     },
     "metadata": {
      "needs_background": "light"
     },
     "output_type": "display_data"
    }
   ],
   "source": [
    "plt.figure(figsize=(8,4))\n",
    "#lw=2\n",
    "\n",
    "def plot_bar(x, y, color, label=None):\n",
    "    # Helper function to add grey shading on background\n",
    "    plt.bar(x, y, width=1, color=c_dict['edge'])\n",
    "    plt.bar(x, y, label=label, color=color)\n",
    "\n",
    "plot_bar(df_emis_NL.index, df_emis_NL, color=c_dict['hist'], label='historisch')\n",
    "    \n",
    "    \n",
    "plot_bar(years1, emissies1, label='-49% in 2030, -95% in 2050', color=c_dict['future'])\n",
    "plot_bar(years2, emissies2,  color = c_dict['future'])\n",
    "\n",
    "#plt.bar(years1, emissies1,  label='-49% in 2030, -95% in 2050', color=c_dict['future'])\n",
    "#plt.bar(years2, emissies2,  color = c_dict['future'])\n",
    "\n",
    "plt.xlabel('Jaar')\n",
    "plt.ylabel('Totaal emissies (Mton CO2-eq)')\n",
    "plt.legend()\n",
    "\n",
    "hist_sum = df_emis_NL.sum() / 1e3 # Gt\n",
    "plt.text(1995,120,s=f'Emissies 1990-2019',fontdict={'fontsize':12})\n",
    "plt.text(1995,100,s=f'{hist_sum:.1f} Gt',fontdict={'fontsize':16})\n",
    "\n",
    "future_sum = (np.sum(emissies1) + np.sum(emissies2)) / 1e3\n",
    "plt.text(2022,70,s=f'Beoogd budget vanaf 2020',fontdict={'fontsize':12})\n",
    "plt.text(2022,50,s=f'{future_sum:.1f} Gt',fontdict={'fontsize':16})\n",
    "\n",
    "plt.savefig('figuur1_huidig.png',dpi=300)"
   ]
  },
  {
   "cell_type": "markdown",
   "metadata": {},
   "source": [
    "We tellen nu de emissies in alle jaren (2020-2050) bij elkaar op om tot een totaal te komen"
   ]
  },
  {
   "cell_type": "code",
   "execution_count": 35,
   "metadata": {},
   "outputs": [
    {
     "data": {
      "text/plain": [
       "2726.394121453407"
      ]
     },
     "execution_count": 35,
     "metadata": {},
     "output_type": "execute_result"
    }
   ],
   "source": [
    "np.sum(emissies1)  + np.sum(emissies2)"
   ]
  },
  {
   "cell_type": "markdown",
   "metadata": {},
   "source": [
    "# Deel 2 - Het nationale koolstofbudget van Nederland"
   ]
  },
  {
   "cell_type": "markdown",
   "metadata": {},
   "source": [
    "Berekeningen geïnspireerd door Stefan Rahmstorf, in zijn blogpost [Wie viel CO2 kann Deutschland noch ausstoßen?](https://scilogs.spektrum.de/klimalounge/wie-viel-co2-kann-deutschland-noch-ausstossen/) op SciLogs. "
   ]
  },
  {
   "cell_type": "markdown",
   "metadata": {},
   "source": [
    "Eerst wat algemene variabelen uitrekenen."
   ]
  },
  {
   "cell_type": "code",
   "execution_count": 36,
   "metadata": {},
   "outputs": [
    {
     "name": "stdout",
     "output_type": "stream",
     "text": [
      "Bevolking NL als percentage wereldbevolking: 0.22 %\n"
     ]
    }
   ],
   "source": [
    "inwoners_NL = 17.4e6 # 1-1-2019, https://en.wikipedia.org/wiki/Netherlands\n",
    "inwoners_wereld = 7.8e9 # maart 2020, https://en.wikipedia.org/wiki/World_population\n",
    "\n",
    "inwoners_NL_frac_wereld = inwoners_NL / inwoners_wereld \n",
    "\n",
    "print('Bevolking NL als percentage wereldbevolking: {:.2f} %'.format(inwoners_NL_frac_wereld*100))"
   ]
  },
  {
   "cell_type": "markdown",
   "metadata": {},
   "source": [
    "Het Urgenda-vonnis stelt: 25% reductie in 2020 t.o.v. 1990"
   ]
  },
  {
   "cell_type": "code",
   "execution_count": 37,
   "metadata": {},
   "outputs": [
    {
     "name": "stdout",
     "output_type": "stream",
     "text": [
      "Emissies NL in 2020: 166.2 Mton\n"
     ]
    }
   ],
   "source": [
    "emis_Urgenda = df_emis_NL[1990] * 0.75 # \n",
    "print(f'Emissies NL in 2020: {emis_Urgenda:.1f} Mton')"
   ]
  },
  {
   "cell_type": "markdown",
   "metadata": {},
   "source": [
    "## Berekening 1: Parijs 1,75 graad (66% kans)"
   ]
  },
  {
   "cell_type": "markdown",
   "metadata": {},
   "source": [
    "*Dit is een interpretatie van de doelstelling \"ruim onder 2 graden\" uit het Klimaatakkoord van Parijs.*\n",
    "\n",
    "**Aannames**\n",
    "* Mondiale koolstofbudget uit: IPCC SR15, tabel 2.2. \n",
    "* Het koolstofbudget voor Nederland is evenredig met haar bevolking\n",
    "* Het koolstofbudget wordt \"uitgedeeld\" per 1.1.2016, kort na het Akkoord van van Parijs\n",
    "* Het Urgenda-vonnis wordt gehaald, waarmee de emissies in 2020 uitkomen op 166,2 Mton\n",
    "\n",
    "Deze aannames zijn (deels) een interpretatie van het begrip **equity** uit het Akkoord van Parijs, ofwel 'de sterkste schouders dragen de zwaarste lasten'. Zoals reeds beschreven in de Introductie, de keuzes hierin zullen de uitkomst sterk beïnvloeden. Een 'uitdelen' van het koolstofbudget op een eerder op later moment bijvoorbeeld. "
   ]
  },
  {
   "cell_type": "code",
   "execution_count": 179,
   "metadata": {},
   "outputs": [
    {
     "name": "stdout",
     "output_type": "stream",
     "text": [
      "Koolstofbudget wereld per 1.1.2016: 880000 Mton\n"
     ]
    }
   ],
   "source": [
    "budget_2018 = 800 * 1e9/1e6 # Gt naar Mton, begin 2018\n",
    "correctie_2016 = 80  *  1e9/1e6 # mondiale uitstoot ca. 40 Gt per jaar\n",
    "\n",
    "budget_2016 = budget_2018 + correctie_2016\n",
    "\n",
    "print(f'Koolstofbudget wereld per 1.1.2016: {budget_2016:.0f} Mton')"
   ]
  },
  {
   "cell_type": "code",
   "execution_count": 115,
   "metadata": {},
   "outputs": [
    {
     "name": "stdout",
     "output_type": "stream",
     "text": [
      "Koolstofbudget NL per 1.1.2016: 1963 Mton\n"
     ]
    }
   ],
   "source": [
    "budget_NL_2016 = inwoners_NL_frac_wereld * budget_2016\n",
    "print(f'Koolstofbudget NL per 1.1.2016: {budget_NL_2016:.0f} Mton')"
   ]
  },
  {
   "cell_type": "markdown",
   "metadata": {},
   "source": [
    "Sinds het peiljaar 2016 zijn we 4 jaren verder met weinig mitigatie. Het budget per 1.1.2020 is geslonken tot"
   ]
  },
  {
   "cell_type": "code",
   "execution_count": 116,
   "metadata": {},
   "outputs": [
    {
     "name": "stdout",
     "output_type": "stream",
     "text": [
      "Koolstofbudget NL per 1.1.2020: 1202 Mton\n"
     ]
    }
   ],
   "source": [
    "budget_NL_2020 = budget_NL_2016 - df_emis_NL[[2016,2017,2018,2019]].sum()\n",
    "print(f'Koolstofbudget NL per 1.1.2020: {budget_NL_2020:.0f} Mton')"
   ]
  },
  {
   "cell_type": "markdown",
   "metadata": {},
   "source": [
    "Met huidige emissies (2020 / Urgenda) na hoeveel jaren is het budget op? "
   ]
  },
  {
   "cell_type": "code",
   "execution_count": 117,
   "metadata": {},
   "outputs": [
    {
     "data": {
      "text/plain": [
       "7.231608860003495"
      ]
     },
     "execution_count": 117,
     "metadata": {},
     "output_type": "execute_result"
    }
   ],
   "source": [
    "budget_NL_2020 / emis_Urgenda"
   ]
  },
  {
   "cell_type": "markdown",
   "metadata": {},
   "source": [
    "Gegeven het budget, dit is de tijd die we hebben om de emissies lineair naar nul te brengen. Het aantal is INCLUSIEF het startjaar, te weten 2020"
   ]
  },
  {
   "cell_type": "code",
   "execution_count": 118,
   "metadata": {},
   "outputs": [
    {
     "data": {
      "text/plain": [
       "14"
      ]
     },
     "execution_count": 118,
     "metadata": {},
     "output_type": "execute_result"
    }
   ],
   "source": [
    "jaren_tot_nul = np.int((budget_NL_2020 * 2 ) / emis_Urgenda)\n",
    "jaren_tot_nul"
   ]
  },
  {
   "cell_type": "markdown",
   "metadata": {},
   "source": [
    "Beetje Pandas magic om de lineaire reductie om te zetten in een emissie-waarde per jaar: "
   ]
  },
  {
   "cell_type": "code",
   "execution_count": 119,
   "metadata": {},
   "outputs": [
    {
     "data": {
      "text/plain": [
       "2020    166.243544\n",
       "2021    153.455579\n",
       "2022    140.667614\n",
       "2023    127.879649\n",
       "2024    115.091684\n",
       "2025    102.303719\n",
       "2026     89.515754\n",
       "2027     76.727790\n",
       "2028     63.939825\n",
       "2029     51.151860\n",
       "2030     38.363895\n",
       "2031     25.575930\n",
       "2032     12.787965\n",
       "2033      0.000000\n",
       "dtype: float64"
      ]
     },
     "execution_count": 119,
     "metadata": {},
     "output_type": "execute_result"
    }
   ],
   "source": [
    "df = pd.Series(index=np.arange(2020,2020+jaren_tot_nul))\n",
    "df[2020] = emis_Urgenda\n",
    "df[df.index[-1]] = 0\n",
    "df_1p75_lin = df.interpolate()\n",
    "df_1p75_lin"
   ]
  },
  {
   "cell_type": "code",
   "execution_count": 120,
   "metadata": {},
   "outputs": [
    {
     "name": "stdout",
     "output_type": "stream",
     "text": [
      "Lineaire emissiedaling naar nul in 2033: 1164 Mton\n",
      "Restant door afronding: 39 Mton\n"
     ]
    }
   ],
   "source": [
    "print(f'Lineaire emissiedaling naar nul in {df_1p75_lin.index[-1]}: {df_1p75_lin.sum():.0f} Mton')\n",
    "print(f'Restant door afronding: {budget_NL_2020-df_1p75_lin.sum():.0f} Mton')"
   ]
  },
  {
   "cell_type": "code",
   "execution_count": 136,
   "metadata": {},
   "outputs": [
    {
     "data": {
      "image/png": "[encoded data removed]",
      "text/plain": [
       "<Figure size 576x288 with 1 Axes>"
      ]
     },
     "metadata": {
      "needs_background": "light"
     },
     "output_type": "display_data"
    }
   ],
   "source": [
    "plt.figure(figsize=(8,4))\n",
    "\n",
    "plot_bar(df_emis_NL.index, df_emis_NL, label='historisch', color=c_dict['hist'])\n",
    "plot_bar(df_1p75_lin.index, df_1p75_lin, label='1.75$\\degree$ met $66\\%$ kans', color=c_dict['future'])\n",
    "\n",
    "plt.xlabel('Jaar')\n",
    "plt.ylabel('Totaal emissies (Mton CO2-eq)')\n",
    "plt.legend()\n",
    "\n",
    "hist_sum = df_emis_NL.sum() / 1e3 # Gt\n",
    "plt.text(1995,120,s=f'Emissies 1990-2019',fontdict={'fontsize':12})\n",
    "plt.text(1995,100,s=f'{hist_sum:.1f} Gt',fontdict={'fontsize':16})\n",
    "\n",
    "future_sum = df_1p75_lin.sum() / 1e3\n",
    "plt.text(2022,70,s=f'Budget vanaf 1-1-2020',fontdict={'fontsize':12})\n",
    "plt.text(2022,50,s=f'{future_sum:.1f} Gt',fontdict={'fontsize':16})\n",
    "\n",
    "plt.savefig('figuur2_1p75.png',dpi=300)"
   ]
  },
  {
   "cell_type": "markdown",
   "metadata": {},
   "source": [
    "Jaarlijkse emissie reductie als % van het jaar 2019 en 2020. "
   ]
  },
  {
   "cell_type": "code",
   "execution_count": 122,
   "metadata": {},
   "outputs": [
    {
     "name": "stdout",
     "output_type": "stream",
     "text": [
      "Jaarlijkse emissie reductie: 7.0 % van peiljaar 2019\n",
      "Jaarlijkse emissie reductie: 7.7 % van peiljaar 2020\n"
     ]
    }
   ],
   "source": [
    "perc = (df_1p75_lin[2020]-df_1p75_lin[2021]) / df_emis_NL[2019] * 100 \n",
    "print(f'Jaarlijkse emissie reductie: {perc:.1f} % van peiljaar 2019')\n",
    "\n",
    "perc = (df_1p75_lin[2020]-df_1p75_lin[2021]) / emis_Urgenda * 100 \n",
    "print(f'Jaarlijkse emissie reductie: {perc:.1f} % van peiljaar 2020')"
   ]
  },
  {
   "cell_type": "code",
   "execution_count": 189,
   "metadata": {},
   "outputs": [
    {
     "name": "stdout",
     "output_type": "stream",
     "text": [
      "Jaar met nul emissies 2033\n"
     ]
    }
   ],
   "source": [
    "print('Jaar met nul emissies', df_1p75_lin.index[-1])"
   ]
  },
  {
   "cell_type": "markdown",
   "metadata": {},
   "source": [
    "## Berekening 2: Parijs 1,5 graad (66% kans)"
   ]
  },
  {
   "cell_type": "markdown",
   "metadata": {},
   "source": [
    "*waarbij ook rekening wordt gehouden met terugkoppelingen in het aardsysteem (Earth System Feedbacks). <br>\n",
    "Dit is de eis van Fridays For Future in hun open brief [Face The Climate Emergency](https://climateemergencyeu.org/).<br>\n",
    "Onder de mede-ondertekenaars bevinden zich ook vele wetenschappers, waaronder Stefan Rahmstorf en Volker Quaschning van Scientists For Future.*\n",
    "\n",
    "\n",
    "**Aannames**\n",
    "* Mondiale koolstofbudget uit: IPCC SR15, tabel 2.2.\n",
    "* Volgens dezelfde tabel: Earth System Feedbacks: reduce budgets by ~100 Gt\n",
    "* Het koolstofbudget voor Nederland is evenredig met haar bevolking\n",
    "* Het koolstofbudget wordt \"uitgedeeld\" per 1.1.2016, kort na het Akkoord van van Parijs"
   ]
  },
  {
   "cell_type": "code",
   "execution_count": 124,
   "metadata": {},
   "outputs": [
    {
     "name": "stdout",
     "output_type": "stream",
     "text": [
      "Koolstofbudget wereld per 1.1.2016: 400000 Mton\n"
     ]
    }
   ],
   "source": [
    "budget_2018 = 420 * 1e3 # Mton, begin 2018\n",
    "correctie_feedbacks = -100 * 1e3 # Earth System Feedbacks\n",
    "correctie_2016 = 80  *  1e9/1e6 # mondiale uitstoot ca. 40 Gt per jaar\n",
    "\n",
    "budget_2016 = budget_2018 + correctie_2016 + correctie_feedbacks\n",
    "\n",
    "print(f'Koolstofbudget wereld per 1.1.2016: {budget_2016:.0f} Mton')"
   ]
  },
  {
   "cell_type": "code",
   "execution_count": 125,
   "metadata": {},
   "outputs": [
    {
     "name": "stdout",
     "output_type": "stream",
     "text": [
      "Koolstofbudget NL per 1.1.2016: 892 Mton\n"
     ]
    }
   ],
   "source": [
    "budget_NL_2016 = inwoners_NL_frac_wereld * budget_2016\n",
    "print(f'Koolstofbudget NL per 1.1.2016: {budget_NL_2016:.0f} Mton')"
   ]
  },
  {
   "cell_type": "markdown",
   "metadata": {},
   "source": [
    "Sinds het peiljaar 2016 zijn we 4 jaren verder met weinig mitigatie. Het budget per 1.1.2020 is geslonken tot"
   ]
  },
  {
   "cell_type": "code",
   "execution_count": 126,
   "metadata": {},
   "outputs": [
    {
     "name": "stdout",
     "output_type": "stream",
     "text": [
      "Koolstofbudget NL per 1.1.2020: 131 Mton\n"
     ]
    }
   ],
   "source": [
    "budget_NL_2020 = budget_NL_2016 - df_emis_NL[[2016,2017,2018,2019]].sum()\n",
    "\n",
    "#budget_NL_2020 = (budget_2016 - 160e3 ) * inwoners_NL_frac_wereld # Alternatief: taart verdelen vanaf 1.1.2020\n",
    "print(f'Koolstofbudget NL per 1.1.2020: {budget_NL_2020:.0f} Mton')"
   ]
  },
  {
   "cell_type": "markdown",
   "metadata": {},
   "source": [
    "Met huidige emissies (2020 / Urgenda) na hoeveel jaren is het budget op? "
   ]
  },
  {
   "cell_type": "code",
   "execution_count": 127,
   "metadata": {},
   "outputs": [
    {
     "data": {
      "text/plain": [
       "0.7906415594820155"
      ]
     },
     "execution_count": 127,
     "metadata": {},
     "output_type": "execute_result"
    }
   ],
   "source": [
    "budget_NL_2020 / emis_Urgenda"
   ]
  },
  {
   "cell_type": "markdown",
   "metadata": {},
   "source": [
    "Gegeven het budget, dit is de tijd die we hebben om de emissies lineair naar nul te brengen. Het aantal is INCLUSIEF het startjaar, te weten 2020"
   ]
  },
  {
   "cell_type": "code",
   "execution_count": 128,
   "metadata": {},
   "outputs": [
    {
     "data": {
      "text/plain": [
       "1"
      ]
     },
     "execution_count": 128,
     "metadata": {},
     "output_type": "execute_result"
    }
   ],
   "source": [
    "jaren_tot_nul = np.int((budget_NL_2020 * 2 ) / emis_Urgenda)\n",
    "jaren_tot_nul"
   ]
  },
  {
   "cell_type": "markdown",
   "metadata": {},
   "source": [
    "Beetje Pandas magic om de lineaire reductie om te zetten in een emissie-waarde per jaar: "
   ]
  },
  {
   "cell_type": "code",
   "execution_count": 129,
   "metadata": {},
   "outputs": [
    {
     "data": {
      "text/plain": [
       "2020    131.439055\n",
       "dtype: float64"
      ]
     },
     "execution_count": 129,
     "metadata": {},
     "output_type": "execute_result"
    }
   ],
   "source": [
    "df = pd.Series(index=np.arange(2020,2020+jaren_tot_nul))\n",
    "df[2020] = emis_Urgenda\n",
    "\n",
    "df_1p50_lin = df\n",
    "df_1p50_lin[2020] = min(emis_Urgenda, budget_NL_2020) # Beschikbare budget is kleiner dan Urgenda\n",
    "#df[df.index[-1]] = 0\n",
    "#df_1p50_lin = df.interpolate()\n",
    "df_1p50_lin"
   ]
  },
  {
   "cell_type": "code",
   "execution_count": 134,
   "metadata": {},
   "outputs": [
    {
     "data": {
      "image/png": "[encoded data removed]",
      "text/plain": [
       "<Figure size 576x288 with 1 Axes>"
      ]
     },
     "metadata": {
      "needs_background": "light"
     },
     "output_type": "display_data"
    }
   ],
   "source": [
    "plt.figure(figsize=(8,4))\n",
    "\n",
    "plot_bar(df_emis_NL.index, df_emis_NL, label='historisch', color=c_dict['hist'])\n",
    "plot_bar(df_1p50_lin.index, df_1p50_lin, label='1.5$\\degree$ met $66\\%$ kans + ESM feedback', color=c_dict['future'])\n",
    "\n",
    "plt.xlabel('Jaar')\n",
    "plt.ylabel('Totaal emissies (Mton CO2-eq)')\n",
    "plt.legend()\n",
    "\n",
    "hist_sum = df_emis_NL.sum() / 1e3 # Gt\n",
    "plt.text(1995,120,s=f'Emissies 1990-2019',fontdict={'fontsize':12})\n",
    "plt.text(1995,100,s=f'{hist_sum:.1f} Gt',fontdict={'fontsize':16})\n",
    "\n",
    "future_sum = df_1p50_lin.sum() / 1e3\n",
    "plt.text(2015,70,s=f'Budget vanaf 1-1-2020',fontdict={'fontsize':12})\n",
    "plt.text(2015,50,s=f'{future_sum:.1f} Gt',fontdict={'fontsize':16})\n",
    "\n",
    "plt.xlim((1988, 2028))\n",
    "\n",
    "plt.savefig('figuur3_1p50.png',dpi=300)"
   ]
  },
  {
   "cell_type": "markdown",
   "metadata": {},
   "source": [
    "## Berekening 3: Parijs 1,5 graad (50% kans)"
   ]
  },
  {
   "cell_type": "markdown",
   "metadata": {},
   "source": [
    "*een risico-voller scenario dan hierboven, met een kleinere kans en zonder rekening te houden  met terugkoppelingen in het aardsysteem. <br>\n",
    "Verder is het tijdstip van verdeling verplaatst van 1.1.2016 naar 1.1.2020 wat (veel) gunstiger is voor Nederland (minder gunstig voor ontwikkelingslanden). *\n",
    "\n",
    "\n",
    "**Aannames**\n",
    "* Mondiale koolstofbudget uit: IPCC SR15, tabel 2.2.\n",
    "* Het koolstofbudget voor Nederland is evenredig met haar bevolking\n",
    "* Het koolstofbudget wordt \"uitgedeeld\" per 1.1.2020"
   ]
  },
  {
   "cell_type": "code",
   "execution_count": 149,
   "metadata": {},
   "outputs": [
    {
     "name": "stdout",
     "output_type": "stream",
     "text": [
      "Koolstofbudget wereld per 1.1.2016: 660000 Mton\n"
     ]
    }
   ],
   "source": [
    "budget_2018 = 580 * 1e3 # Mton, begin 2018\n",
    "correctie_2016 = 80  *  1e9/1e6 # mondiale uitstoot ca. 40 Gt per jaar\n",
    "\n",
    "budget_2016 = budget_2018 + correctie_2016\n",
    "\n",
    "print(f'Koolstofbudget wereld per 1.1.2016: {budget_2016:.0f} Mton')"
   ]
  },
  {
   "cell_type": "markdown",
   "metadata": {},
   "source": [
    "Taart verdelen per 1.1.2020"
   ]
  },
  {
   "cell_type": "code",
   "execution_count": 157,
   "metadata": {},
   "outputs": [
    {
     "name": "stdout",
     "output_type": "stream",
     "text": [
      "Koolstofbudget NL per 1.1.2016: 1472 Mton\n"
     ]
    }
   ],
   "source": [
    "budget_NL_2016 = inwoners_NL_frac_wereld * budget_2016\n",
    "print(f'Koolstofbudget NL per 1.1.2016: {budget_NL_2016:.0f} Mton')"
   ]
  },
  {
   "cell_type": "code",
   "execution_count": 158,
   "metadata": {},
   "outputs": [
    {
     "name": "stdout",
     "output_type": "stream",
     "text": [
      "Koolstofbudget NL per 1.1.2020: 711 Mton\n"
     ]
    }
   ],
   "source": [
    "budget_NL_2020 = budget_NL_2016 - df_emis_NL[[2016,2017,2018,2019]].sum()\n",
    "\n",
    "print(f'Koolstofbudget NL per 1.1.2020: {budget_NL_2020:.0f} Mton')"
   ]
  },
  {
   "cell_type": "markdown",
   "metadata": {},
   "source": [
    "Met huidige emissies (2020 / Urgenda) na hoeveel jaren is het budget op? "
   ]
  },
  {
   "cell_type": "code",
   "execution_count": 159,
   "metadata": {},
   "outputs": [
    {
     "data": {
      "text/plain": [
       "4.279498847264484"
      ]
     },
     "execution_count": 159,
     "metadata": {},
     "output_type": "execute_result"
    }
   ],
   "source": [
    "budget_NL_2020 / emis_Urgenda"
   ]
  },
  {
   "cell_type": "markdown",
   "metadata": {},
   "source": [
    "Gegeven het budget, dit is de tijd die we hebben om de emissies lineair naar nul te brengen. Het aantal is INCLUSIEF het startjaar, te weten 2020"
   ]
  },
  {
   "cell_type": "code",
   "execution_count": 160,
   "metadata": {},
   "outputs": [
    {
     "data": {
      "text/plain": [
       "8"
      ]
     },
     "execution_count": 160,
     "metadata": {},
     "output_type": "execute_result"
    }
   ],
   "source": [
    "jaren_tot_nul = np.int((budget_NL_2020 * 2 ) / emis_Urgenda)\n",
    "jaren_tot_nul"
   ]
  },
  {
   "cell_type": "markdown",
   "metadata": {},
   "source": [
    "Beetje Pandas magic om de lineaire reductie om te zetten in een emissie-waarde per jaar: "
   ]
  },
  {
   "cell_type": "code",
   "execution_count": 161,
   "metadata": {},
   "outputs": [
    {
     "data": {
      "text/plain": [
       "2020    166.243544\n",
       "2021    142.494466\n",
       "2022    118.745389\n",
       "2023     94.996311\n",
       "2024     71.247233\n",
       "2025     47.498155\n",
       "2026     23.749078\n",
       "2027      0.000000\n",
       "dtype: float64"
      ]
     },
     "execution_count": 161,
     "metadata": {},
     "output_type": "execute_result"
    }
   ],
   "source": [
    "df = pd.Series(index=np.arange(2020,2020+jaren_tot_nul))\n",
    "df[2020] = emis_Urgenda\n",
    "\n",
    "df_1p50_lin = df\n",
    "df[df.index[-1]] = 0\n",
    "df_1p50_lin = df.interpolate()\n",
    "df_1p50_lin"
   ]
  },
  {
   "cell_type": "code",
   "execution_count": 162,
   "metadata": {},
   "outputs": [
    {
     "name": "stdout",
     "output_type": "stream",
     "text": [
      "Lineaire emissiedaling naar nul in 2027: 665 Mton\n",
      "Restant door afronding: 46 Mton\n"
     ]
    }
   ],
   "source": [
    "print(f'Lineaire emissiedaling naar nul in {df_1p50_lin.index[-1]}: {df_1p50_lin.sum():.0f} Mton')\n",
    "print(f'Restant door afronding: {budget_NL_2020-df_1p50_lin.sum():.0f} Mton')"
   ]
  },
  {
   "cell_type": "code",
   "execution_count": 178,
   "metadata": {},
   "outputs": [],
   "source": [
    "def emissies_1p50_verdeling2020(budget_2018):\n",
    "    \"\"\"\n",
    "    ALTERNATIEF: taart verdelen per 1.1.2020\n",
    "    \"\"\"\n",
    "    correctie_2020 = 80  *  1e9/1e6 # mondiale uitstoot ca. 40 Gt per jaar\n",
    "    budget_2020 = budget_2018 - correctie_2020 # aftrekken , niet optellen\n",
    "    budget_NL_2020 = inwoners_NL_frac_wereld * budget_2020\n",
    "    jaren_tot_nul = np.int((budget_NL_2020 * 2 ) / emis_Urgenda)\n",
    "    df = pd.Series(index=np.arange(2020,2020+jaren_tot_nul))\n",
    "    df[2020] = emis_Urgenda\n",
    "    df_1p50_lin = df\n",
    "    df[df.index[-1]] = 0\n",
    "    df_1p50_lin = df.interpolate() \n",
    "    print(f'Lineaire emissiedaling naar nul in {df_1p50_lin.index[-1]}: {df_1p50_lin.sum():.0f} Mton')\n",
    "    print(f'Restant door afronding: {budget_NL_2020-df_1p50_lin.sum():.0f} Mton')\n",
    "    return df_1p50_lin"
   ]
  },
  {
   "cell_type": "code",
   "execution_count": 164,
   "metadata": {},
   "outputs": [
    {
     "name": "stdout",
     "output_type": "stream",
     "text": [
      "Lineaire emissiedaling naar nul in 2032: 1081 Mton\n",
      "Restant door afronding: 35 Mton\n"
     ]
    }
   ],
   "source": [
    "df_1p50_lin2 = emissies_1p50_verdeling2020(budget_2018)"
   ]
  },
  {
   "cell_type": "code",
   "execution_count": 187,
   "metadata": {},
   "outputs": [
    {
     "data": {
      "image/png": "[encoded data removed]",
      "text/plain": [
       "<Figure size 576x288 with 1 Axes>"
      ]
     },
     "metadata": {
      "needs_background": "light"
     },
     "output_type": "display_data"
    }
   ],
   "source": [
    "plt.figure(figsize=(8,4))\n",
    "\n",
    "plot_bar(df_emis_NL.index, df_emis_NL, label='historisch', color=c_dict['hist'])\n",
    "\n",
    "plot_bar(df_1p50_lin2.index, df_1p50_lin2, label='1.5$\\degree$ met $50\\%$ kans + verdeling 1.1.2020', color=c_dict['future'])\n",
    "plot_bar(df_1p50_lin.index, df_1p50_lin, label='1.5$\\degree$ met $50\\%$ kans', color=c_dict['future2'])\n",
    "\n",
    "plt.xlabel('Jaar')\n",
    "plt.ylabel('Totaal emissies (Mton CO2-eq)')\n",
    "\n",
    "\n",
    "hist_sum = df_emis_NL.sum() / 1e3 # Gt\n",
    "plt.text(1995,120,s=f'Emissies 1990-2019',fontdict={'fontsize':12})\n",
    "plt.text(1995,100,s=f'{hist_sum:.1f} Gt',fontdict={'fontsize':16})\n",
    "\n",
    "future_sum = df_1p50_lin.sum() / 1e3\n",
    "future_sum2 = df_1p50_lin2.sum() / 1e3\n",
    "plt.text(2018,60,s=f'Budget vanaf 1-1-2020',fontdict={'fontsize':12})\n",
    "plt.text(2018,40,s=f'{future_sum2:.1f} Gt / {future_sum:.1f} Gt ',fontdict={'fontsize':16})\n",
    "\n",
    "plt.ylim((0, 270))\n",
    "plt.legend()\n",
    "\n",
    "plt.savefig('figuur4_1p50.png',dpi=300)"
   ]
  },
  {
   "cell_type": "code",
   "execution_count": 188,
   "metadata": {},
   "outputs": [
    {
     "name": "stdout",
     "output_type": "stream",
     "text": [
      "Jaar met nul emissies 2032 2027\n"
     ]
    }
   ],
   "source": [
    "print('Jaar met nul emissies', df_1p50_lin2.index[-1], df_1p50_lin.index[-1])"
   ]
  },
  {
   "cell_type": "code",
   "execution_count": 123,
   "metadata": {},
   "outputs": [
    {
     "name": "stdout",
     "output_type": "stream",
     "text": [
      "Jaarlijkse emissie reductie: 11.3 % van peiljaar 2019\n",
      "Jaarlijkse emissie reductie: 12.5 % van peiljaar 2020\n"
     ]
    }
   ],
   "source": [
    "perc = (df_1p50_lin[2020]-df_1p50_lin[2021]) / df_emis_NL[2019] * 100 \n",
    "print(f'Jaarlijkse emissie reductie: {perc:.1f} % van peiljaar 2019')\n",
    "\n",
    "perc = (df_1p50_lin[2020]-df_1p50_lin[2021]) / emis_Urgenda * 100 \n",
    "print(f'Jaarlijkse emissie reductie: {perc:.1f} % van peiljaar 2020')"
   ]
  },
  {
   "cell_type": "markdown",
   "metadata": {},
   "source": [
    "# Naschrift\n",
    "\n",
    "In november 2018 schreef een klimaatexpert van het Planbureau voor de Leefomgeving (dr. [Detlef van Vuuren](https://www.pbl.nl/en/about-pbl/employees/detlef-van-vuuren)) een doorwrocht artikel getiteld [Wat betekent het Akkoord van Parijs voor het Nederlandse langetermijnklimaatbeleid?](https://esb.nu/kvs/20046705/wat-betekent-het-akkoord-van-parijs-voor-het-nederlandse-langetermijnklimaatbeleid). Hieronder enkele interessante passages uit dit artikel, waarvan sommige onze bovenstaande analyse ondersteunen, zoals de keuze voor de verdeling 'per capita'. \n",
    "\n",
    "\n",
    "**Over het huidige beleid**\n",
    "\n",
    "> Roelfsema et al. (2017) hebben een uitvoerige analyse gemaakt van het effect van alle plannen die landen hebben ingediend voor de mondiale emissies in 2025 en 2030 (figuur 2, referentiescenario). Als wordt aangenomen dat landen dit beleid na 2030 zullen gaan voortzetten, dan blijkt dat zowel de uitvoering van de NDC’s als de voorzetting van dat beleid absoluut onvoldoende is om het doel van 2 graden te halen. Uitgaande van het doel van 1,5 à 2 °C is het dus noodzakelijk om de huidige plannen voor 2030 aan te scherpen.\n",
    "\n",
    "**Over rechtvaardigheid**\n",
    "\n",
    "> Het ligt voor de hand te veronderstellen dat – zowel nationaal als internationaal –kostenefficiëntie niet alleen als argument in de discussie rond het aanscherpen van de nationale doelstellingen wordt gebruik, maar ook rechtvaardigheid. Qua kosten is het aantrekkelijk om veel maatregelen te nemen in ontwikkelingslanden, aangezien reducties daar vaak goedkoper zijn dan in rijke landen. Maar efficiëntie is dus niet het enige criterium – draagkracht, gelijkheid en verantwoordelijkheid (bijvoorbeeld voor historische klimaat­verandering) spelen ook een belangrijke rol.\n",
    "\n",
    "en \n",
    "\n",
    "> In de wetenschappelijke literatuur lijkt zich een consensus te ontwikkelen dat op de lange termijn een geleidelijke convergentie naar gelijke emissies per hoofd voor de hand ligt. Zo’n ‘per capita convergentie’ ligt qua resultaten ook meestal in het midden van de range van uitkomsten van de verschillende rechtvaardigheidsprincipes en geeft voor veel landen (maar zeker niet voor alle) ook een redelijke verdeling van kosten per eenheid bnp (Hof et al., 2009; Van den Berg et al., 2017).\n",
    "\n",
    "**Over de interpreteerbaarheid**\n",
    "> Er gelden nu dus enkele belangrijke keuzes als men tot een interpretatie van Parijs wil komen wat betreft de toe­gestane CO2-emissies. Ten eerste is er het doel zelf: is het ruim onder de 2 °C of maximaal 1,5 °C? Ten tweede is er de vraag met welke zekerheid er aan deze doelen moet ­worden voldaan. Is twee derde kans voldoende? (...) En tenslotte speelt er ook nog de timing van de emissiereductie.\n",
    "\n",
    "\n",
    "**Over negatieve emissies**\n",
    "\n",
    "> Bijna alle scenario’s van het VN-klimaatpanel en de wetenschappelijke literatuur veronderstellen negatieve emissies in de toekomst (Van Vuuren et al., 2015). Dit geldt dus ook voor de afgeleide emissiedoelen, die immers op deze literatuur en scenario’s gebaseerd zijn. Negatieve emissies kunnen echter niet onbeperkt worden ingezet. De bovengenoemde technieken staan nog in de kinderschoenen, zijn soms duur, en leiden vaak tot meer energie­gebruik (Strengers et al., 2018). CO2-afvang leidt bijvoorbeeld tot een lagere efficiëntie van elektriciteits­centrales, en versnelde verwering vereist energie om gesteente te vermalen. Voor de vaakst overwogen methoden – dat wil zeggen bio-energie met CCS en herbebossing– geldt dat deze landintensief zijn, en daarmee negatieve gevolgen kunnen hebben voor de voedselvoorziening en biodiversiteit (Smith et al., 2016). Ten slotte is de opslagcapaciteit van CO2 beperkt. Om deze reden dringt de vraag zich op of ­scenario’s met veel negatieve emissies wel reëel zijn (Anderson en Peters, 2016; Smith et al., 2016).\n",
    "\n",
    "**Over de urgentie**\n",
    "\n",
    "> De komende tien jaar zijn, zowel wereldwijd als in Nederland, cruciaal om de klimaatverandering te laten voldoen aan de doelstellingen van het Akkoord van Parijs. Hiervoor is het op korte termijn nodig om een breuk met het verleden te bewerkstelligen, en de emissies sneller te reduceren. Het vaststaande en voorgenomen beleid in Nederland leidt nog niet tot een reductie overeenkomstig de Parijse doelen."
   ]
  },
  {
   "cell_type": "code",
   "execution_count": null,
   "metadata": {},
   "outputs": [],
   "source": []
  }
 ],
 "metadata": {
  "kernelspec": {
   "display_name": "Python 3",
   "language": "python",
   "name": "python3"
  },
  "language_info": {
   "codemirror_mode": {
    "name": "ipython",
    "version": 3
   },
   "file_extension": ".py",
   "mimetype": "text/x-python",
   "name": "python",
   "nbconvert_exporter": "python",
   "pygments_lexer": "ipython3",
   "version": "3.6.9"
  }
 },
 "nbformat": 4,
 "nbformat_minor": 2
}
